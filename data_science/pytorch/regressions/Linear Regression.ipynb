{
 "cells": [
  {
   "cell_type": "markdown",
   "metadata": {},
   "source": [
    "## Linear Regression"
   ]
  },
  {
   "cell_type": "code",
   "execution_count": 1,
   "metadata": {},
   "outputs": [
    {
     "name": "stdout",
     "output_type": "stream",
     "text": [
      "epoch= 1, weight=2.0897202492,loss=6951.293945312500000\n",
      "epoch= 21, weight=24.5437927246,loss=4267.750488281250000\n",
      "epoch= 41, weight=40.8301429749,loss=2872.071533203125000\n",
      "epoch= 61, weight=52.6533851624,loss=2142.551513671875000\n",
      "epoch= 81, weight=61.2435951233,loss=1759.576660156250000\n",
      "epoch= 101, weight=67.4895324707,loss=1557.779052734375000\n",
      "epoch= 121, weight=72.0340652466,loss=1451.111206054687500\n",
      "epoch= 141, weight=75.3427734375,loss=1394.576538085937500\n",
      "epoch= 161, weight=77.7531204224,loss=1364.545654296875000\n",
      "epoch= 181, weight=79.5099716187,loss=1348.562988281250000\n"
     ]
    },
    {
     "data": {
      "image/png": "[encoded data removed]",
      "text/plain": [
       "<Figure size 432x288 with 1 Axes>"
      ]
     },
     "metadata": {
      "needs_background": "light"
     },
     "output_type": "display_data"
    }
   ],
   "source": [
    "import numpy as np\n",
    "import torch\n",
    "import torch.nn as nn\n",
    "import matplotlib.pyplot as plt\n",
    "from sklearn import datasets\n",
    "\n",
    "# scikit library is used to create a random dataset to demonstrate linear regression\n",
    "# make_regression() function generates samples for inputs (features) and output (target) by applying random \n",
    "# linear regression mode\n",
    "x_numpy, y_numpy = datasets.make_regression(n_samples=100, n_features=1, noise=40, random_state=1)\n",
    "\n",
    "# Convert numpy arrays to torch tensors as well as mention datatype\n",
    "X = torch.from_numpy(x_numpy.astype(np.float32))\n",
    "y = torch.from_numpy(y_numpy.astype(np.float32))\n",
    "y = y.view(y.shape[0],1)\n",
    "\n",
    "n_samples, n_features = X.shape\n",
    "in_size = n_features\n",
    "out_size = 1\n",
    "\n",
    "# Linear regression model\n",
    "model = nn.Linear(in_size,1)\n",
    "\n",
    "# Loss and optimizer\n",
    "criterion = nn.MSELoss()\n",
    "learning_rate=1e-2\n",
    "optimizer = torch.optim.SGD(model.parameters(),lr=learning_rate)\n",
    "\n",
    "# Train the model\n",
    "for epoch in range(200):\n",
    "    \n",
    "    # forward pass\n",
    "    pred = model(X)\n",
    "    ls = criterion(pred, y)\n",
    "    \n",
    "    # Backward and optimize\n",
    "    optimizer.zero_grad()\n",
    "    ls.backward()\n",
    "    optimizer.step()\n",
    "    \n",
    "    # printing few steps\n",
    "    if epoch%20==0:\n",
    "        [w,a] = model.parameters()\n",
    "        print(f'epoch= {epoch+1}, weight={w[0][0]:.10f},loss={ls:.15f}')\n",
    "\n",
    "# detach() returns a new Tensor, detached from the current graph thus no gradient will be backpropagated along with the variable\n",
    "# numpy() converts the tensor to numpy array\n",
    "predicted = model(X).detach().numpy()\n",
    "\n",
    "# Plot the graph\n",
    "plt.plot(x_numpy, y_numpy,'ro')\n",
    "plt.plot(x_numpy, predicted,'b')\n",
    "plt.show()"
   ]
  }
 ],
 "metadata": {
  "kernelspec": {
   "display_name": "Python 3",
   "language": "python",
   "name": "python3"
  },
  "language_info": {
   "codemirror_mode": {
    "name": "ipython",
    "version": 3
   },
   "file_extension": ".py",
   "mimetype": "text/x-python",
   "name": "python",
   "nbconvert_exporter": "python",
   "pygments_lexer": "ipython3",
   "version": "3.7.9"
  }
 },
 "nbformat": 4,
 "nbformat_minor": 4
}
