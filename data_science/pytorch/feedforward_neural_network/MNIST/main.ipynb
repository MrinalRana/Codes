{
 "cells": [
  {
   "cell_type": "markdown",
   "metadata": {},
   "source": [
    "MNIST data contains images of hand written digits 0 to 9; each image size is (28 x 28)"
   ]
  },
  {
   "cell_type": "code",
   "execution_count": 1,
   "metadata": {},
   "outputs": [],
   "source": [
    "import torch\n",
    "import torchvision\n",
    "from torchvision import datasets, transforms\n",
    "# torchvision library is part of the PyTorch project, consists of popular datasets, model architectures, and common image transformations for computer vision."
   ]
  },
  {
   "cell_type": "code",
   "execution_count": 2,
   "metadata": {
    "scrolled": true
   },
   "outputs": [],
   "source": [
    "# If GPU is available operations will be performed on GPU otherwise CPU\n",
    "device = torch.device('cuda' if torch.cuda.is_available() else 'cpu')"
   ]
  },
  {
   "cell_type": "markdown",
   "metadata": {},
   "source": [
    "#### Downloading the data and converting to tensor"
   ]
  },
  {
   "cell_type": "code",
   "execution_count": 3,
   "metadata": {},
   "outputs": [],
   "source": [
    "# root=\"/path\" defines where data should go; in this case it will go in default directory(for default we also could just use \"\" without writing root=)\n",
    "# train=True means to train the data\n",
    "# download=True to download the data; once downloaded it won't download again\n",
    "# transform=transforms.Compose([transforms.ToTensor()]) converting data into tensor\n",
    "train_data = datasets.MNIST(root=\"MNIST_DATA\", train=True, download=True, \n",
    "                       transform=transforms.Compose([transforms.ToTensor()])) \n",
    "\n",
    "test_data = datasets.MNIST(root=\"MNIST_DATA\", train=False, download=False, \n",
    "                      transform=transforms.Compose([transforms.ToTensor()]))"
   ]
  },
  {
   "cell_type": "markdown",
   "metadata": {},
   "source": [
    "#### Creating batches of data to pass in training loop"
   ]
  },
  {
   "cell_type": "code",
   "execution_count": 4,
   "metadata": {},
   "outputs": [],
   "source": [
    "# All datasets are subclasses of torch.utils.data.Dataset(represents a Python iterable over a dataset) i.e, they have __getitem__ and __len__ methods implemented. Hence, they can all be \n",
    "# passed to a torch.utils.data.DataLoader which can load multiple samples parallelly using torch.multiprocessing workers. \n",
    "# If running on Windows and you get a BrokenPipeError, try setting the num_worker of torch.utils.data.DataLoader() to 0.\n",
    "# DataLoader: Takes any Dataset and creates an iterator which returns batches of data\n",
    "# batch_size represents the size of samples which we are going to feed in the model; an arbitrary number\n",
    "# shuffle=True so data can be trained with different items\n",
    "trainset = torch.utils.data.DataLoader(dataset=train_data, batch_size=10, shuffle=True)\n",
    "\n",
    "testset = torch.utils.data.DataLoader(test_data, batch_size=10, shuffle=False)"
   ]
  },
  {
   "cell_type": "markdown",
   "metadata": {},
   "source": [
    "#### To see how first batch of data looks like"
   ]
  },
  {
   "cell_type": "code",
   "execution_count": 5,
   "metadata": {},
   "outputs": [
    {
     "name": "stdout",
     "output_type": "stream",
     "text": [
      "tensor(4)\n",
      "tensor(6)\n",
      "tensor(3)\n",
      "tensor(3)\n",
      "tensor(8)\n",
      "tensor(2)\n"
     ]
    },
    {
     "data": {
      "image/png": "[encoded data removed]",
      "text/plain": [
       "<Figure size 432x288 with 6 Axes>"
      ]
     },
     "metadata": {
      "needs_background": "light"
     },
     "output_type": "display_data"
    }
   ],
   "source": [
    "import matplotlib.pyplot as plt\n",
    "# Method 1:\n",
    "\n",
    "# To check single element\n",
    "\n",
    "# for data in trainset:\n",
    "#     #print(data)\n",
    "#     break\n",
    "\n",
    "# x, y = data[0][0], data[1][0]\n",
    "# print(y)\n",
    "# import matplotlib.pyplot as plt\n",
    "# plt.imshow(x[0])\n",
    "# plt.show()\n",
    "\n",
    "\n",
    "# To check multiple elements\n",
    "for data in trainset:\n",
    "    for i in range(6):\n",
    "        x, y = data[0][i], data[1][i]\n",
    "        print(y)\n",
    "        plt.subplot(2,3,i+1)\n",
    "        plt.imshow(x[0])\n",
    "    break\n",
    "plt.show()\n",
    "# for data in trainset:\n",
    "#     for i in range(6):\n",
    "#         x, y = data\n",
    "#         plt.subplot(2,3, i+1)\n",
    "#         plt.imshow(x[i][0])\n",
    "#         print(y[i])\n",
    "#     break\n",
    "# plt.show()\n",
    "\n",
    "# Method 2:\n",
    "\n",
    "# first_batch = iter(trainset)\n",
    "# images, labels = first_batch.next()\n",
    "# print(images.shape, labels.shape)\n",
    "\n",
    "# for i in range(10):\n",
    "#     plt.subplot(2,5,i+1)\n",
    "#     plt.imshow(images[i][0])\n",
    "# plt.show()"
   ]
  },
  {
   "cell_type": "markdown",
   "metadata": {},
   "source": [
    "#### Look on data "
   ]
  },
  {
   "cell_type": "code",
   "execution_count": 6,
   "metadata": {},
   "outputs": [
    {
     "name": "stdout",
     "output_type": "stream",
     "text": [
      "60000\n",
      "{0: 5923, 1: 6742, 2: 5958, 3: 6131, 4: 5842, 5: 5421, 6: 5918, 7: 6265, 8: 5851, 9: 5949}\n",
      "key = 0, count = 5923, percent = 9.87%\n",
      "key = 1, count = 6742, percent = 11.24%\n",
      "key = 2, count = 5958, percent = 9.93%\n",
      "key = 3, count = 6131, percent = 10.22%\n",
      "key = 4, count = 5842, percent = 9.74%\n",
      "key = 5, count = 5421, percent = 9.04%\n",
      "key = 6, count = 5918, percent = 9.86%\n",
      "key = 7, count = 6265, percent = 10.44%\n",
      "key = 8, count = 5851, percent = 9.75%\n",
      "key = 9, count = 5949, percent = 9.91%\n"
     ]
    }
   ],
   "source": [
    "# Having a look on data how it has been distributed; if not properly distributed equally then have to balance it otherwise the weights are going to stuck on a point \n",
    "# and loss can't be decreased from a certain value\n",
    "\n",
    "total_elements = 0\n",
    "digits_dict = {0:0, 1:0, 2:0, 3:0, 4:0, 5:0, 6:0, 7:0, 8:0, 9:0, }\n",
    "\n",
    "for data in trainset:\n",
    "    x, y = data\n",
    "    for i in y:\n",
    "        digits_dict[int(i)] += 1\n",
    "        total_elements += 1\n",
    "        \n",
    "print(total_elements)\n",
    "print(digits_dict)\n",
    "\n",
    "for i in digits_dict:\n",
    "    print(f\"key = {i}, count = {digits_dict[i]}, percent = {round(100*digits_dict[i]/total_elements,2)}%\")"
   ]
  },
  {
   "cell_type": "markdown",
   "metadata": {},
   "source": [
    "#### Building the Neural Network"
   ]
  },
  {
   "cell_type": "code",
   "execution_count": 7,
   "metadata": {},
   "outputs": [],
   "source": [
    "# functional: a module(usually imported into the F namespace by convention) which contains activation functions, loss functions, etc, \n",
    "# as well as non-stateful versions of layers such as convolutional and linear layers\n",
    "\n",
    "import torch.nn as nn\n",
    "import torch.nn.functional as F\n",
    "\n",
    "# Module: creates a callable which behaves like a function, but can also contain state(such as neural net layer weights). \n",
    "# It knows what Parameter (s) it contains and can zero all their gradients, loop \n",
    "class Nnet(nn.Module):\n",
    "    \n",
    "    def __init__(self):\n",
    "        super().__init__()\n",
    "        self.fc1 = nn.Linear(784, 64)     # input= 784 => 28*28; hidden layer=64 (arbitrary number) as output\n",
    "        self.fc2 = nn.Linear(64, 64)      # fc1 output was 64 so fc2 input is 64; again second hidden layer=64 (arbitrary number)\n",
    "        self.fc3 = nn.Linear(64, 64)      # fc2 output was 64 so fc3 input is 64; again second hidden layer=64 (arbitrary number)\n",
    "        self.fc4 = nn.Linear(64, 10)      # fc3 output was 64 so fc4 input is 64; output is 10 because data has 0-9 digits\n",
    "        \n",
    "    def forward(self, x):                 # feed forward method\n",
    "        x = F.relu(self.fc1(x))\n",
    "        x = F.relu(self.fc2(x))\n",
    "        x = F.relu(self.fc3(x))\n",
    "        x = self.fc4(x)\n",
    "        return F.log_softmax(x, dim=1)\n",
    "    \n",
    "net = Nnet().to(device)"
   ]
  },
  {
   "cell_type": "markdown",
   "metadata": {},
   "source": [
    "#### Training the model"
   ]
  },
  {
   "cell_type": "code",
   "execution_count": 8,
   "metadata": {},
   "outputs": [
    {
     "name": "stdout",
     "output_type": "stream",
     "text": [
      "epoch=1/3, step=1000/6000, loss=0.154947131872177\n",
      "epoch=1/3, step=2000/6000, loss=0.069240890443325\n",
      "epoch=1/3, step=3000/6000, loss=0.101538620889187\n",
      "epoch=1/3, step=4000/6000, loss=0.122869953513145\n",
      "epoch=1/3, step=5000/6000, loss=0.058587957173586\n",
      "epoch=1/3, step=6000/6000, loss=0.728203237056732\n",
      "epoch=2/3, step=1000/6000, loss=0.218361169099808\n",
      "epoch=2/3, step=2000/6000, loss=0.078737646341324\n",
      "epoch=2/3, step=3000/6000, loss=0.055690623819828\n",
      "epoch=2/3, step=4000/6000, loss=0.262235730886459\n",
      "epoch=2/3, step=5000/6000, loss=0.043340459465981\n",
      "epoch=2/3, step=6000/6000, loss=0.225408434867859\n",
      "epoch=3/3, step=1000/6000, loss=0.010230599902570\n",
      "epoch=3/3, step=2000/6000, loss=0.025454849004745\n",
      "epoch=3/3, step=3000/6000, loss=0.049931813031435\n",
      "epoch=3/3, step=4000/6000, loss=0.477973788976669\n",
      "epoch=3/3, step=5000/6000, loss=0.009507542476058\n",
      "epoch=3/3, step=6000/6000, loss=0.007160594221205\n"
     ]
    }
   ],
   "source": [
    "# torch.optim: Contains optimizers such as SGD, which update the weights of Parameter during the backward step\n",
    "import torch.optim as optim\n",
    "\n",
    "optimizer = optim.Adam(net.parameters(), lr=0.001)\n",
    "EPOCH = 3         # going to make 3 whole passes through entire dataset\n",
    "one_epoch_steps = len(trainset)\n",
    "\n",
    "for epoch in range(EPOCH):\n",
    "    for idx, data in enumerate(trainset):\n",
    "        x, y = data\n",
    "        x = x.view(-1,28*28).to(device)\n",
    "        y = y.to(device)\n",
    "        pred_out = net(x)   # -1 is used to represent whatever batch size is\n",
    "        loss = F.nll_loss(pred_out, y)\n",
    "        # optim.zero_grad() resets the gradient to 0 and we need to call it before computing the gradient for the next minibatch\n",
    "        net.zero_grad()\n",
    "        loss.backward()\n",
    "        optimizer.step()\n",
    "        if (idx)%1000==999:\n",
    "            print(f'epoch={epoch+1}/{EPOCH}, step={idx+1}/{one_epoch_steps}, loss={loss.item():.15f}')"
   ]
  },
  {
   "cell_type": "markdown",
   "metadata": {},
   "source": [
    "#### Testing the accuracy"
   ]
  },
  {
   "cell_type": "code",
   "execution_count": 9,
   "metadata": {},
   "outputs": [
    {
     "name": "stdout",
     "output_type": "stream",
     "text": [
      "Accuracy = 96.9\n"
     ]
    }
   ],
   "source": [
    "n_correct = 0\n",
    "total_samples = 0\n",
    "\n",
    "with torch.no_grad():\n",
    "    for data in testset:\n",
    "        x, y = data\n",
    "        x = x.view(-1,28*28).to(device)\n",
    "        y = y.to(device)\n",
    "        output = net(x)\n",
    "        for idx, i in enumerate(output):\n",
    "            # Returns the indices of the maximum value of all elements in the input tensor\n",
    "            # torch.argmax() returns the second value of torch.max()\n",
    "            # value, index = torch.max(output, 1)\n",
    "            if torch.argmax(i) == y[idx]:\n",
    "                n_correct += 1\n",
    "            total_samples += 1\n",
    "accuracy = 100 * n_correct / total_samples\n",
    "print(f'Accuracy = {accuracy}')"
   ]
  },
  {
   "cell_type": "markdown",
   "metadata": {},
   "source": [
    "#### Verifying the value with images"
   ]
  },
  {
   "cell_type": "code",
   "execution_count": 10,
   "metadata": {},
   "outputs": [
    {
     "name": "stdout",
     "output_type": "stream",
     "text": [
      "tensor(7)\n",
      "tensor(8)\n",
      "tensor(9)\n",
      "tensor(0)\n",
      "tensor(1)\n",
      "tensor(2)\n"
     ]
    },
    {
     "data": {
      "image/png": "[encoded data removed]",
      "text/plain": [
       "<Figure size 432x288 with 6 Axes>"
      ]
     },
     "metadata": {
      "needs_background": "light"
     },
     "output_type": "display_data"
    }
   ],
   "source": [
    "import matplotlib.pyplot as plt\n",
    "\n",
    "for i in range(6):\n",
    "    print(torch.argmax(net(x[i].view(-1,784))[0]))\n",
    "    plt.subplot(2,3,i+1)\n",
    "    plt.imshow(x[i].view(28,28))\n",
    "plt.show()"
   ]
  },
  {
   "cell_type": "markdown",
   "metadata": {},
   "source": [
    "For official documentation click **[here](https://pytorch.org/tutorials/beginner/nn_tutorial.html)**"
   ]
  },
  {
   "cell_type": "markdown",
   "metadata": {},
   "source": [
    "## TensorBoard"
   ]
  },
  {
   "cell_type": "markdown",
   "metadata": {},
   "source": [
    "Using tensorboard displaying data on images tab, model on graph tab and accuray & loss on scalar tab; code used for tensorborad is uncommented"
   ]
  },
  {
   "cell_type": "markdown",
   "metadata": {},
   "source": [
    "Install TensorBoard running command in cmd (pip install tensorboard) and start it from cmd like jupyter notebook (tensorboard --logdir=/path/directory_name), these utilities let you log PyTorch models and metrics into a directory for visualization within the TensorBoard UI. Scalars, images, histograms, graphs, and embedding visualizations are all supported for PyTorch models and tensors as well as Caffe2 nets and blobs"
   ]
  },
  {
   "cell_type": "code",
   "execution_count": 11,
   "metadata": {},
   "outputs": [
    {
     "data": {
      "text/plain": [
       "Reusing TensorBoard on port 6006 (pid 7564), started 5:26:44 ago. (Use '!kill 7564' to kill it.)"
      ]
     },
     "metadata": {},
     "output_type": "display_data"
    },
    {
     "data": {
      "text/html": [
       "\n",
       "      <iframe id=\"tensorboard-frame-3194b6ac309553c\" width=\"100%\" height=\"800\" frameborder=\"0\">\n",
       "      </iframe>\n",
       "      <script>\n",
       "        (function() {\n",
       "          const frame = document.getElementById(\"tensorboard-frame-3194b6ac309553c\");\n",
       "          const url = new URL(\"/\", window.location);\n",
       "          const port = 6006;\n",
       "          if (port) {\n",
       "            url.port = port;\n",
       "          }\n",
       "          frame.src = url;\n",
       "        })();\n",
       "      </script>\n",
       "    "
      ],
      "text/plain": [
       "<IPython.core.display.HTML object>"
      ]
     },
     "metadata": {},
     "output_type": "display_data"
    },
    {
     "name": "stdout",
     "output_type": "stream",
     "text": [
      "epoch=1/3, step=100/600, loss=0.547341048717499\n",
      "epoch=1/3, step=200/600, loss=0.439677387475967\n",
      "epoch=1/3, step=300/600, loss=0.301797777414322\n",
      "epoch=1/3, step=400/600, loss=0.230129033327103\n",
      "epoch=1/3, step=500/600, loss=0.304620951414108\n",
      "epoch=1/3, step=600/600, loss=0.260904073715210\n",
      "epoch=2/3, step=100/600, loss=0.204097837209702\n",
      "epoch=2/3, step=200/600, loss=0.111001320183277\n",
      "epoch=2/3, step=300/600, loss=0.146681696176529\n",
      "epoch=2/3, step=400/600, loss=0.154352992773056\n",
      "epoch=2/3, step=500/600, loss=0.380173087120056\n",
      "epoch=2/3, step=600/600, loss=0.164586007595062\n",
      "epoch=3/3, step=100/600, loss=0.106613472104073\n",
      "epoch=3/3, step=200/600, loss=0.218865469098091\n",
      "epoch=3/3, step=300/600, loss=0.191051274538040\n",
      "epoch=3/3, step=400/600, loss=0.073826529085636\n",
      "epoch=3/3, step=500/600, loss=0.257843017578125\n",
      "epoch=3/3, step=600/600, loss=0.098212480545044\n"
     ]
    }
   ],
   "source": [
    "# Uncomment all the code before running\n",
    "\n",
    "# import torch\n",
    "# import torchvision\n",
    "# from torchvision import datasets, transforms\n",
    "# import matplotlib.pyplot as plt\n",
    "\n",
    "## The SummaryWriter class is the main entry to log data for consumption and visualization by TensorBoard\n",
    "from torch.utils.tensorboard import SummaryWriter\n",
    "\n",
    "## tensorboard extension needs to be loaded(only once) before running it through jupyter notebook(alternative way of cmd)\n",
    "%load_ext tensorboard   \n",
    "\n",
    "## Refresh the tensorboard from the given button to have the changes appear\n",
    "## launching tensor board in jupyter notebook alternative way of cmd\n",
    "%tensorboard --logdir=runs\n",
    "\n",
    "\n",
    "## writer will output to ./runs/ directory by default, this is log directory\n",
    "# writer = SummaryWriter(\"runs/mnist_logs\")\n",
    "\n",
    "# train_data = datasets.MNIST(root=\"MNIST_DATA\", train=True, download=True, \n",
    "#                        transform=transforms.Compose([transforms.ToTensor()])) \n",
    "\n",
    "# test_data = datasets.MNIST(root=\"MNIST_DATA\", train=False, download=False, \n",
    "#                       transform=transforms.Compose([transforms.ToTensor()]))\n",
    "\n",
    "\n",
    "# trainset = torch.utils.data.DataLoader(dataset=train_data, batch_size=100, shuffle=True)\n",
    "\n",
    "# testset = torch.utils.data.DataLoader(test_data, batch_size=100, shuffle=False)\n",
    "\n",
    "\n",
    "## for data in trainset:\n",
    "##     x, y = data\n",
    "##     break\n",
    "## another way\n",
    "data = iter(trainset)\n",
    "x, y = data.next()\n",
    "\n",
    "## making a grid with all images to display\n",
    "img_grid = torchvision.utils.make_grid(x)\n",
    "\n",
    "## adding the grid to as an image to tensorboard\n",
    "writer.add_image('MNIST Images', img_grid)\n",
    "\n",
    "## clearing the writer\n",
    "writer.close()\n",
    "\n",
    "    \n",
    "# import torch.nn as nn\n",
    "# import torch.nn.functional as F\n",
    "\n",
    "# class Nnet(nn.Module):\n",
    "    \n",
    "#     def __init__(self):\n",
    "#         super().__init__()\n",
    "#         self.fc1 = nn.Linear(784, 64)     \n",
    "#         self.fc2 = nn.Linear(64, 64)      \n",
    "#         self.fc3 = nn.Linear(64, 64)      \n",
    "#         self.fc4 = nn.Linear(64, 10)      \n",
    "        \n",
    "#     def forward(self, x):                 \n",
    "#         x = F.relu(self.fc1(x))\n",
    "#         x = F.relu(self.fc2(x))\n",
    "#         x = F.relu(self.fc3(x))\n",
    "#         x = self.fc4(x)\n",
    "#         return F.log_softmax(x, dim=1)\n",
    "    \n",
    "# model = Nnet()\n",
    "\n",
    "# import torch.optim as optim\n",
    "\n",
    "# optimizer = optim.Adam(model.parameters(), lr=0.001)\n",
    "\n",
    "\n",
    "## adding graph to see the models with input, linear layer, activation function, output  flow chart\n",
    "writer.add_graph(model, x.view(-1,28*28))\n",
    "writer.close()\n",
    "\n",
    "# EPOCH = 3\n",
    "\n",
    "catch_loss = 0\n",
    "catch_accuracy = 0\n",
    "\n",
    "# for epoch in range(EPOCH):\n",
    "#     for idx, data in enumerate(trainset):\n",
    "#         x, y = data\n",
    "#         x = x.view(-1,28*28)\n",
    "        \n",
    "#         pred_out = model(x)  \n",
    "#         loss = F.nll_loss(pred_out, y)\n",
    "        \n",
    "#         optimizer.zero_grad()\n",
    "#         loss.backward()\n",
    "#         optimizer.step()\n",
    "        \n",
    "        ## capture the loss\n",
    "        catch_loss += loss.item() \n",
    "        \n",
    "        ## measuring the accuracy \n",
    "        catch_accuracy += (torch.argmax(pred_out, 1) == y).sum().item()\n",
    "        \n",
    "#         if (idx)%100==99:\n",
    "#             print(f'epoch={epoch+1}/{EPOCH}, step={idx+1}/{len(trainset)}, loss={loss.item():.15f}')\n",
    "            \n",
    "            ## adding scalar to see the loss and accuracy on tensorboard\n",
    "            writer.add_scalar('training loss', catch_loss/100, epoch * len(trainset) + idx)\n",
    "            writer.add_scalar('training accuracy', catch_accuracy/100, epoch * len(trainset) + idx)\n",
    "            \n",
    "            ## reseting the variable to catch the loss for another batch\n",
    "            catch_loss = 0\n",
    "            catch_accuracy = 0\n",
    "            \n",
    "            ## clearing the writer\n",
    "            writer.close()"
   ]
  },
  {
   "cell_type": "markdown",
   "metadata": {},
   "source": [
    "![TensorBoard Scalar](png/scalar.png)"
   ]
  },
  {
   "cell_type": "markdown",
   "metadata": {},
   "source": [
    "![TensorBoard Images](png/data_batch.png \"Images\")"
   ]
  },
  {
   "cell_type": "markdown",
   "metadata": {},
   "source": [
    "![TensorBoard Graph](png/model.png \"Graph\")"
   ]
  },
  {
   "cell_type": "markdown",
   "metadata": {},
   "source": [
    "torch.utils.tensorboard **[documentation](https://pytorch.org/docs/stable/tensorboard.html)**"
   ]
  }
 ],
 "metadata": {
  "kernelspec": {
   "display_name": "Python 3",
   "language": "python",
   "name": "python3"
  },
  "language_info": {
   "codemirror_mode": {
    "name": "ipython",
    "version": 3
   },
   "file_extension": ".py",
   "mimetype": "text/x-python",
   "name": "python",
   "nbconvert_exporter": "python",
   "pygments_lexer": "ipython3",
   "version": "3.7.3"
  }
 },
 "nbformat": 4,
 "nbformat_minor": 4
}
