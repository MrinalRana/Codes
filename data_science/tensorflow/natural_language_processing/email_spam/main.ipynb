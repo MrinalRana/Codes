{
 "cells": [
  {
   "cell_type": "markdown",
   "metadata": {
    "id": "lqrCfYSowXuj"
   },
   "source": [
    "## Data Preprocessing"
   ]
  },
  {
   "cell_type": "markdown",
   "metadata": {
    "id": "XlP7tiHOx-vd"
   },
   "source": [
    "### Reading and Shuffling data"
   ]
  },
  {
   "cell_type": "code",
   "execution_count": 1,
   "metadata": {
    "colab": {
     "base_uri": "https://localhost:8080/",
     "height": 399
    },
    "executionInfo": {
     "elapsed": 527,
     "status": "ok",
     "timestamp": 1606514040743,
     "user": {
      "displayName": "Adit Chaudhary",
      "photoUrl": "",
      "userId": "04096686166570386707"
     },
     "user_tz": 300
    },
    "id": "c5FsuETplNEC",
    "outputId": "fe8db3da-a717-4b21-9cbc-86cc888e2443"
   },
   "outputs": [
    {
     "data": {
      "text/html": [
       "<div>\n",
       "<style scoped>\n",
       "    .dataframe tbody tr th:only-of-type {\n",
       "        vertical-align: middle;\n",
       "    }\n",
       "\n",
       "    .dataframe tbody tr th {\n",
       "        vertical-align: top;\n",
       "    }\n",
       "\n",
       "    .dataframe thead th {\n",
       "        text-align: right;\n",
       "    }\n",
       "</style>\n",
       "<table border=\"1\" class=\"dataframe\">\n",
       "  <thead>\n",
       "    <tr style=\"text-align: right;\">\n",
       "      <th></th>\n",
       "      <th>text</th>\n",
       "      <th>spam</th>\n",
       "    </tr>\n",
       "  </thead>\n",
       "  <tbody>\n",
       "    <tr>\n",
       "      <th>0</th>\n",
       "      <td>Subject: invitation to cera multiclient study ...</td>\n",
       "      <td>0</td>\n",
       "    </tr>\n",
       "    <tr>\n",
       "      <th>1</th>\n",
       "      <td>Subject: chheep medz  how to save o vacationis...</td>\n",
       "      <td>1</td>\n",
       "    </tr>\n",
       "    <tr>\n",
       "      <th>2</th>\n",
       "      <td>Subject: entouch newsletter  business highligh...</td>\n",
       "      <td>0</td>\n",
       "    </tr>\n",
       "    <tr>\n",
       "      <th>3</th>\n",
       "      <td>Subject: re : f / u to dr . kaminski @ enron f...</td>\n",
       "      <td>0</td>\n",
       "    </tr>\n",
       "    <tr>\n",
       "      <th>4</th>\n",
       "      <td>Subject: yyyy , do you know the hgh difference...</td>\n",
       "      <td>1</td>\n",
       "    </tr>\n",
       "    <tr>\n",
       "      <th>...</th>\n",
       "      <td>...</td>\n",
       "      <td>...</td>\n",
       "    </tr>\n",
       "    <tr>\n",
       "      <th>5726</th>\n",
       "      <td>Subject: re : var and credit meeting on wednes...</td>\n",
       "      <td>0</td>\n",
       "    </tr>\n",
       "    <tr>\n",
       "      <th>5727</th>\n",
       "      <td>Subject: your approval is overdue : access req...</td>\n",
       "      <td>0</td>\n",
       "    </tr>\n",
       "    <tr>\n",
       "      <th>5728</th>\n",
       "      <td>Subject: re : credit risk technical article  b...</td>\n",
       "      <td>0</td>\n",
       "    </tr>\n",
       "    <tr>\n",
       "      <th>5729</th>\n",
       "      <td>Subject: failure notice  hi . this is the qmai...</td>\n",
       "      <td>1</td>\n",
       "    </tr>\n",
       "    <tr>\n",
       "      <th>5730</th>\n",
       "      <td>Subject: re : paper - request ( informs meetin...</td>\n",
       "      <td>0</td>\n",
       "    </tr>\n",
       "  </tbody>\n",
       "</table>\n",
       "<p>5731 rows × 2 columns</p>\n",
       "</div>"
      ],
      "text/plain": [
       "                                                   text spam\n",
       "0     Subject: invitation to cera multiclient study ...    0\n",
       "1     Subject: chheep medz  how to save o vacationis...    1\n",
       "2     Subject: entouch newsletter  business highligh...    0\n",
       "3     Subject: re : f / u to dr . kaminski @ enron f...    0\n",
       "4     Subject: yyyy , do you know the hgh difference...    1\n",
       "...                                                 ...  ...\n",
       "5726  Subject: re : var and credit meeting on wednes...    0\n",
       "5727  Subject: your approval is overdue : access req...    0\n",
       "5728  Subject: re : credit risk technical article  b...    0\n",
       "5729  Subject: failure notice  hi . this is the qmai...    1\n",
       "5730  Subject: re : paper - request ( informs meetin...    0\n",
       "\n",
       "[5731 rows x 2 columns]"
      ]
     },
     "execution_count": 1,
     "metadata": {
      "tags": []
     },
     "output_type": "execute_result"
    }
   ],
   "source": [
    "import pandas as pd\n",
    "\n",
    "data = pd.read_csv('data/emails.csv', usecols=['text', 'spam'])\n",
    "\n",
    "# shuffling the data and droping the index which will be created after shuffling\n",
    "data = data.sample(frac=1).reset_index(drop=True)\n",
    "data"
   ]
  },
  {
   "cell_type": "markdown",
   "metadata": {
    "id": "RcfCiOYY1xi6"
   },
   "source": [
    "### Dropping null and duplicate values"
   ]
  },
  {
   "cell_type": "code",
   "execution_count": 2,
   "metadata": {
    "colab": {
     "base_uri": "https://localhost:8080/"
    },
    "executionInfo": {
     "elapsed": 693,
     "status": "ok",
     "timestamp": 1606514040917,
     "user": {
      "displayName": "Adit Chaudhary",
      "photoUrl": "",
      "userId": "04096686166570386707"
     },
     "user_tz": 300
    },
    "id": "bUFL8YFgjjih",
    "outputId": "1578e841-83f4-432f-b422-6bcf37fbffd6"
   },
   "outputs": [
    {
     "name": "stdout",
     "output_type": "stream",
     "text": [
      "text    0\n",
      "spam    2\n",
      "dtype: int64\n",
      "\n",
      "After dropping nulls:\n",
      "data shape: (5729, 2)\n",
      "\n",
      "After dropping duplicates:\n",
      "data shape: (5696, 2)\n"
     ]
    }
   ],
   "source": [
    "print(data.isnull().sum())\n",
    "\n",
    "data.dropna(inplace=True)\n",
    "\n",
    "print('\\nAfter dropping nulls:\\ndata shape:', data.shape)\n",
    "\n",
    "data.duplicated()\n",
    "\n",
    "data.drop_duplicates(inplace=True)\n",
    "\n",
    "print('\\nAfter dropping duplicates:\\ndata shape:', data.shape)"
   ]
  },
  {
   "cell_type": "markdown",
   "metadata": {
    "id": "OBrvW9biyHpZ"
   },
   "source": [
    "### Data Cleansing "
   ]
  },
  {
   "cell_type": "code",
   "execution_count": 3,
   "metadata": {
    "colab": {
     "base_uri": "https://localhost:8080/",
     "height": 577
    },
    "executionInfo": {
     "elapsed": 689,
     "status": "ok",
     "timestamp": 1606514040918,
     "user": {
      "displayName": "Adit Chaudhary",
      "photoUrl": "",
      "userId": "04096686166570386707"
     },
     "user_tz": 300
    },
    "id": "gywBS8cKkuuH",
    "outputId": "f2637e54-4c04-4a61-8684-a7260be09ac9"
   },
   "outputs": [
    {
     "name": "stdout",
     "output_type": "stream",
     "text": [
      "['0' '1'\n",
      " ' its termination would not  have such a phenomenal impact on the power situation .  however '\n",
      " ' mr suresh prabhu '] \n",
      "\n"
     ]
    },
    {
     "name": "stderr",
     "output_type": "stream",
     "text": [
      "/usr/local/lib/python3.6/dist-packages/ipykernel_launcher.py:7: SettingWithCopyWarning: \n",
      "A value is trying to be set on a copy of a slice from a DataFrame.\n",
      "Try using .loc[row_indexer,col_indexer] = value instead\n",
      "\n",
      "See the caveats in the documentation: https://pandas.pydata.org/pandas-docs/stable/user_guide/indexing.html#returning-a-view-versus-a-copy\n",
      "  import sys\n"
     ]
    },
    {
     "data": {
      "text/html": [
       "<div>\n",
       "<style scoped>\n",
       "    .dataframe tbody tr th:only-of-type {\n",
       "        vertical-align: middle;\n",
       "    }\n",
       "\n",
       "    .dataframe tbody tr th {\n",
       "        vertical-align: top;\n",
       "    }\n",
       "\n",
       "    .dataframe thead th {\n",
       "        text-align: right;\n",
       "    }\n",
       "</style>\n",
       "<table border=\"1\" class=\"dataframe\">\n",
       "  <thead>\n",
       "    <tr style=\"text-align: right;\">\n",
       "      <th></th>\n",
       "      <th>text</th>\n",
       "      <th>spam</th>\n",
       "    </tr>\n",
       "  </thead>\n",
       "  <tbody>\n",
       "    <tr>\n",
       "      <th>0</th>\n",
       "      <td>weather derivatives : under cover  - - - - - -...</td>\n",
       "      <td>0</td>\n",
       "    </tr>\n",
       "    <tr>\n",
       "      <th>1</th>\n",
       "      <td>re : mgmt 656  let me know if you need anythin...</td>\n",
       "      <td>0</td>\n",
       "    </tr>\n",
       "    <tr>\n",
       "      <th>2</th>\n",
       "      <td>re : \" white paper \"  vince &amp; vasant ,  the en...</td>\n",
       "      <td>0</td>\n",
       "    </tr>\n",
       "    <tr>\n",
       "      <th>3</th>\n",
       "      <td>re : visit to enron  nick ,  the airport is ab...</td>\n",
       "      <td>0</td>\n",
       "    </tr>\n",
       "    <tr>\n",
       "      <th>4</th>\n",
       "      <td>make your dialup go faster  how have you been ...</td>\n",
       "      <td>1</td>\n",
       "    </tr>\n",
       "    <tr>\n",
       "      <th>...</th>\n",
       "      <td>...</td>\n",
       "      <td>...</td>\n",
       "    </tr>\n",
       "    <tr>\n",
       "      <th>5689</th>\n",
       "      <td>re : exotica . xla  hi anjam ,  thanks for the...</td>\n",
       "      <td>0</td>\n",
       "    </tr>\n",
       "    <tr>\n",
       "      <th>5690</th>\n",
       "      <td>re : congratulations  thanks vince and likewis...</td>\n",
       "      <td>0</td>\n",
       "    </tr>\n",
       "    <tr>\n",
       "      <th>5691</th>\n",
       "      <td>delivery status notification ( failure )  this...</td>\n",
       "      <td>1</td>\n",
       "    </tr>\n",
       "    <tr>\n",
       "      <th>5692</th>\n",
       "      <td>re : eol  clayton ,  great news . i would like...</td>\n",
       "      <td>0</td>\n",
       "    </tr>\n",
       "    <tr>\n",
       "      <th>5693</th>\n",
       "      <td>latest draft - - comments ?  vince ,  this is ...</td>\n",
       "      <td>0</td>\n",
       "    </tr>\n",
       "  </tbody>\n",
       "</table>\n",
       "<p>5694 rows × 2 columns</p>\n",
       "</div>"
      ],
      "text/plain": [
       "                                                   text  spam\n",
       "0     weather derivatives : under cover  - - - - - -...     0\n",
       "1     re : mgmt 656  let me know if you need anythin...     0\n",
       "2     re : \" white paper \"  vince & vasant ,  the en...     0\n",
       "3     re : visit to enron  nick ,  the airport is ab...     0\n",
       "4     make your dialup go faster  how have you been ...     1\n",
       "...                                                 ...   ...\n",
       "5689  re : exotica . xla  hi anjam ,  thanks for the...     0\n",
       "5690  re : congratulations  thanks vince and likewis...     0\n",
       "5691  delivery status notification ( failure )  this...     1\n",
       "5692  re : eol  clayton ,  great news . i would like...     0\n",
       "5693  latest draft - - comments ?  vince ,  this is ...     0\n",
       "\n",
       "[5694 rows x 2 columns]"
      ]
     },
     "execution_count": 3,
     "metadata": {
      "tags": []
     },
     "output_type": "execute_result"
    }
   ],
   "source": [
    "# manipulating text\n",
    "data['text'] = data['text'].str.replace('Subject: ', '')\n",
    "\n",
    "# cleansing spam column values [0 means not spam, 1 means spam]\n",
    "print(data['spam'].unique(),'\\n')\n",
    "data = data[data['spam'].isin(['0','1'])]\n",
    "data['spam'] = data['spam'].apply(pd.to_numeric)\n",
    "\n",
    "data = data.sample(frac=1).reset_index(drop=True)\n",
    "data"
   ]
  },
  {
   "cell_type": "code",
   "execution_count": 4,
   "metadata": {
    "colab": {
     "base_uri": "https://localhost:8080/"
    },
    "executionInfo": {
     "elapsed": 16610,
     "status": "ok",
     "timestamp": 1606514056846,
     "user": {
      "displayName": "Adit Chaudhary",
      "photoUrl": "",
      "userId": "04096686166570386707"
     },
     "user_tz": 300
    },
    "id": "96HyGOOw1RKx",
    "outputId": "e4aca645-017f-41ad-f8e6-9068bf093abd"
   },
   "outputs": [
    {
     "name": "stdout",
     "output_type": "stream",
     "text": [
      "[nltk_data] Downloading package stopwords to /root/nltk_data...\n",
      "[nltk_data]   Package stopwords is already up-to-date!\n"
     ]
    }
   ],
   "source": [
    "import nltk\n",
    "from nltk.corpus import stopwords\n",
    "from nltk.stem import PorterStemmer\n",
    "from string import punctuation\n",
    "\n",
    "# data['text'] = re.sub(^a-zA-Z)\n",
    "\n",
    "nltk.download('stopwords')\n",
    "stpwrds = stopwords.words('english')\n",
    "\n",
    "stemmer = PorterStemmer()\n",
    "\n",
    "stoplist = stpwrds + list(punctuation)\n",
    "\n",
    "data['text'] = data['text'].str.lower()\n",
    "data['text'] = data['text'].apply(lambda i: ' '.join([stemmer.stem(word) for word in i.split() if ((word not in stoplist) & (~word.isdigit()))]))\n",
    "data = data[data['text'].apply(lambda i: len(i) >= 10)]"
   ]
  },
  {
   "cell_type": "markdown",
   "metadata": {
    "id": "qBEFiE3cySRI"
   },
   "source": [
    "### Splitting Test and Training data"
   ]
  },
  {
   "cell_type": "code",
   "execution_count": 5,
   "metadata": {
    "colab": {
     "base_uri": "https://localhost:8080/"
    },
    "executionInfo": {
     "elapsed": 16607,
     "status": "ok",
     "timestamp": 1606514056847,
     "user": {
      "displayName": "Adit Chaudhary",
      "photoUrl": "",
      "userId": "04096686166570386707"
     },
     "user_tz": 300
    },
    "id": "rocbf-g9gGkY",
    "outputId": "582d406d-5a75-47a1-9838-c77f926a3f87"
   },
   "outputs": [
    {
     "name": "stdout",
     "output_type": "stream",
     "text": [
      "length of data: 5692\n",
      "split_size value: 569 \n",
      "\n",
      "x_train: 569     storag model john want thank compliment work d...\n",
      "570     banner life upgrad effect februari banner exte...\n",
      "571     confirm need pleas repli email messag confirm ...\n",
      "572     urgent deadlin rsvp jan nd invit energi financ...\n",
      "573     ee risk manag present octob pleas present frid...\n",
      "                              ...                        \n",
      "5689    exotica xla hi anjam thank info afraid one thi...\n",
      "5690    congratul thank vinc likewis congratul promot ...\n",
      "5691    deliveri statu notif failur automat gener deli...\n",
      "5692    eol clayton great news would like sit tom stin...\n",
      "5693    latest draft comment vinc latest effort would ...\n",
      "Name: text, Length: 5123, dtype: object\n",
      "x_train shape: (5123,) \n",
      "\n",
      "y_train: 0      0\n",
      "1      0\n",
      "2      0\n",
      "3      0\n",
      "4      1\n",
      "      ..\n",
      "564    0\n",
      "565    0\n",
      "566    0\n",
      "567    1\n",
      "568    0\n",
      "Name: spam, Length: 569, dtype: int64\n"
     ]
    }
   ],
   "source": [
    "print('length of data:', len(data))\n",
    "split_size = int(len(data) * .1)\n",
    "\n",
    "print('split_size value:', split_size, '\\n')\n",
    "x_train = data['text'][split_size:]\n",
    "y_train = data['spam'][split_size:]\n",
    "\n",
    "x_test= data['text'][:split_size]\n",
    "y_test = data['spam'][:split_size]\n",
    "\n",
    "print('x_train:', x_train)\n",
    "print('x_train shape:', x_train.shape, '\\n')\n",
    "print('y_train:', y_test)"
   ]
  },
  {
   "cell_type": "markdown",
   "metadata": {
    "id": "rXpimyHNyeWi"
   },
   "source": [
    "### Generating Tokens, Sequencing and Padding"
   ]
  },
  {
   "cell_type": "code",
   "execution_count": 6,
   "metadata": {
    "colab": {
     "base_uri": "https://localhost:8080/"
    },
    "executionInfo": {
     "elapsed": 18040,
     "status": "ok",
     "timestamp": 1606514058285,
     "user": {
      "displayName": "Adit Chaudhary",
      "photoUrl": "",
      "userId": "04096686166570386707"
     },
     "user_tz": 300
    },
    "id": "gES6yZhu3t_-",
    "outputId": "272315f0-628e-4a97-c3b4-dc724438501c"
   },
   "outputs": [
    {
     "name": "stdout",
     "output_type": "stream",
     "text": [
      "24406\n"
     ]
    }
   ],
   "source": [
    "import tensorflow as tf\n",
    "from tensorflow.keras.preprocessing.text import Tokenizer\n",
    "from tensorflow.keras.preprocessing.sequence import pad_sequences\n",
    "\n",
    "tokenizer = Tokenizer(oov_token='<OOV>')\n",
    "tokenizer.fit_on_texts(x_train)\n",
    "total_words = len(tokenizer.word_index)\n",
    "\n",
    "print(total_words)"
   ]
  },
  {
   "cell_type": "code",
   "execution_count": 7,
   "metadata": {
    "colab": {
     "base_uri": "https://localhost:8080/"
    },
    "executionInfo": {
     "elapsed": 18435,
     "status": "ok",
     "timestamp": 1606514058690,
     "user": {
      "displayName": "Adit Chaudhary",
      "photoUrl": "",
      "userId": "04096686166570386707"
     },
     "user_tz": 300
    },
    "id": "5_5fMI_1VYZ8",
    "outputId": "08c2923d-8497-4740-93ca-00c8b220480a"
   },
   "outputs": [
    {
     "name": "stdout",
     "output_type": "stream",
     "text": [
      "maximum length of x_train sequence: 2670\n",
      "(5123, 2670)\n"
     ]
    }
   ],
   "source": [
    "import numpy as np\n",
    "\n",
    "x_train_seq = tokenizer.texts_to_sequences(x_train)\n",
    "\n",
    "max_len = max([len(i) for i in x_train_seq])\n",
    "print('maximum length of x_train sequence:', max_len)\n",
    "x_train = np.array(pad_sequences(x_train_seq, maxlen=max_len, padding='pre'))\n",
    "print(x_train.shape)\n",
    "\n",
    "x_test_seq = tokenizer.texts_to_sequences(x_test)\n",
    "x_test = np.array(pad_sequences(x_test_seq, maxlen=max_len, padding='pre'))\n"
   ]
  },
  {
   "cell_type": "markdown",
   "metadata": {
    "id": "HxOP-a5swmF8"
   },
   "source": [
    "## Creating Model and Training"
   ]
  },
  {
   "cell_type": "code",
   "execution_count": 8,
   "metadata": {
    "colab": {
     "base_uri": "https://localhost:8080/"
    },
    "executionInfo": {
     "elapsed": 281383,
     "status": "ok",
     "timestamp": 1606514321646,
     "user": {
      "displayName": "Adit Chaudhary",
      "photoUrl": "",
      "userId": "04096686166570386707"
     },
     "user_tz": 300
    },
    "id": "RnPj8xyNl1hu",
    "outputId": "4670365a-38ad-40f4-9a44-bf9bf9b41b36"
   },
   "outputs": [
    {
     "name": "stdout",
     "output_type": "stream",
     "text": [
      "Model: \"sequential\"\n",
      "_________________________________________________________________\n",
      "Layer (type)                 Output Shape              Param #   \n",
      "=================================================================\n",
      "embedding (Embedding)        (None, 2670, 16)          390512    \n",
      "_________________________________________________________________\n",
      "bidirectional (Bidirectional (None, 2670, 48)          7872      \n",
      "_________________________________________________________________\n",
      "dropout (Dropout)            (None, 2670, 48)          0         \n",
      "_________________________________________________________________\n",
      "lstm_1 (LSTM)                (None, 32)                10368     \n",
      "_________________________________________________________________\n",
      "batch_normalization (BatchNo (None, 32)                128       \n",
      "_________________________________________________________________\n",
      "dense (Dense)                (None, 40)                1320      \n",
      "_________________________________________________________________\n",
      "dropout_1 (Dropout)          (None, 40)                0         \n",
      "_________________________________________________________________\n",
      "dense_1 (Dense)              (None, 2)                 82        \n",
      "=================================================================\n",
      "Total params: 410,282\n",
      "Trainable params: 410,218\n",
      "Non-trainable params: 64\n",
      "_________________________________________________________________\n",
      "Epoch 1/8\n",
      "145/145 - 32s - loss: 0.2632 - accuracy: 0.8883 - val_loss: 0.3411 - val_accuracy: 0.8031\n",
      "Epoch 2/8\n",
      "145/145 - 31s - loss: 0.0396 - accuracy: 0.9872 - val_loss: 0.0920 - val_accuracy: 0.9669\n",
      "Epoch 3/8\n",
      "145/145 - 32s - loss: 0.0261 - accuracy: 0.9941 - val_loss: 0.1168 - val_accuracy: 0.9552\n",
      "Epoch 4/8\n",
      "145/145 - 32s - loss: 0.0144 - accuracy: 0.9967 - val_loss: 0.0846 - val_accuracy: 0.9727\n",
      "Epoch 5/8\n",
      "145/145 - 32s - loss: 0.0118 - accuracy: 0.9965 - val_loss: 0.0696 - val_accuracy: 0.9766\n",
      "Epoch 6/8\n",
      "145/145 - 32s - loss: 0.0092 - accuracy: 0.9976 - val_loss: 0.0786 - val_accuracy: 0.9766\n",
      "Epoch 7/8\n",
      "145/145 - 31s - loss: 0.0046 - accuracy: 0.9987 - val_loss: 0.0789 - val_accuracy: 0.9805\n",
      "Epoch 8/8\n",
      "145/145 - 32s - loss: 0.0020 - accuracy: 0.9998 - val_loss: 0.2046 - val_accuracy: 0.9688\n",
      "\n",
      "Saving model...\n"
     ]
    }
   ],
   "source": [
    "from tensorflow.keras import Sequential, layers, optimizers, losses\n",
    "\n",
    "model = Sequential([\n",
    "                  layers.Embedding(input_dim=total_words+1, output_dim=16, input_length=max_len),\n",
    "\n",
    "                  layers.Bidirectional(layers.LSTM(24, return_sequences=True)),\n",
    "                  layers.Dropout(.25),\n",
    "                  layers.LSTM(32),\n",
    "                  layers.BatchNormalization(),\n",
    "\n",
    "                  layers.Dense(40, activation='relu'),\n",
    "                  layers.Dropout(.5),\n",
    "                  layers.Dense(2, activation=tf.nn.softmax)\n",
    "])\n",
    "\n",
    "model.summary()\n",
    "model.compile(optimizer=optimizers.Adam(lr=1e-3), loss=losses.sparse_categorical_crossentropy, metrics=['accuracy'])\n",
    "history = model.fit(x_train, y_train, verbose=2, epochs=8, validation_split=0.1)\n",
    "\n",
    "print('\\nSaving model...')\n",
    "model.save('model/model.h5')"
   ]
  },
  {
   "cell_type": "code",
   "execution_count": 9,
   "metadata": {
    "colab": {
     "base_uri": "https://localhost:8080/",
     "height": 541
    },
    "executionInfo": {
     "elapsed": 281377,
     "status": "ok",
     "timestamp": 1606514321647,
     "user": {
      "displayName": "Adit Chaudhary",
      "photoUrl": "",
      "userId": "04096686166570386707"
     },
     "user_tz": 300
    },
    "id": "Pg86aNvdr4jw",
    "outputId": "2e9ac962-6574-4ff0-e1d2-3058cc50f73a"
   },
   "outputs": [
    {
     "data": {
      "image/png": "[encoded data removed]",
      "text/plain": [
       "<Figure size 432x288 with 1 Axes>"
      ]
     },
     "metadata": {
      "needs_background": "light",
      "tags": []
     },
     "output_type": "display_data"
    },
    {
     "data": {
      "image/png": "[encoded data removed]",
      "text/plain": [
       "<Figure size 432x288 with 1 Axes>"
      ]
     },
     "metadata": {
      "needs_background": "light",
      "tags": []
     },
     "output_type": "display_data"
    }
   ],
   "source": [
    "import matplotlib.pyplot as plt\n",
    "\n",
    "def show_graph(h, s):\n",
    "    plt.plot(h.history[s])\n",
    "    plt.plot(h.history['val_' + s])\n",
    "    plt.xlabel('epochs')\n",
    "    plt.ylabel(s)\n",
    "    plt.legend([s, 'val_' + s])\n",
    "    plt.show()\n",
    "\n",
    "show_graph(history, 'accuracy')\n",
    "show_graph(history, 'loss')"
   ]
  },
  {
   "cell_type": "markdown",
   "metadata": {
    "id": "OG2mXx2Exl9r"
   },
   "source": [
    "## Testing "
   ]
  },
  {
   "cell_type": "code",
   "execution_count": 10,
   "metadata": {
    "colab": {
     "base_uri": "https://localhost:8080/"
    },
    "executionInfo": {
     "elapsed": 284916,
     "status": "ok",
     "timestamp": 1606514325190,
     "user": {
      "displayName": "Adit Chaudhary",
      "photoUrl": "",
      "userId": "04096686166570386707"
     },
     "user_tz": 300
    },
    "id": "ByouCcocAfqc",
    "outputId": "f4a30a55-7dfa-4fda-ed47-8a782a99fde5"
   },
   "outputs": [
    {
     "name": "stdout",
     "output_type": "stream",
     "text": [
      "18/18 - 2s - loss: 0.1001 - accuracy: 0.7698\n"
     ]
    },
    {
     "data": {
      "text/plain": [
       "[0.10009822249412537, 0.7697715163230896]"
      ]
     },
     "execution_count": 10,
     "metadata": {
      "tags": []
     },
     "output_type": "execute_result"
    }
   ],
   "source": [
    "model_1 = tf.keras.models.load_model('model/model.h5')\n",
    "\n",
    "model_1.evaluate(x_test, y_test, verbose=2)"
   ]
  },
  {
   "cell_type": "code",
   "execution_count": 17,
   "metadata": {
    "colab": {
     "base_uri": "https://localhost:8080/"
    },
    "executionInfo": {
     "elapsed": 498,
     "status": "ok",
     "timestamp": 1606514733804,
     "user": {
      "displayName": "Adit Chaudhary",
      "photoUrl": "",
      "userId": "04096686166570386707"
     },
     "user_tz": 300
    },
    "id": "2GOiFAmUCnzA",
    "outputId": "b72d4df0-e385-41a3-9481-6a69527460d1"
   },
   "outputs": [
    {
     "name": "stdout",
     "output_type": "stream",
     "text": [
      "Email: JobSearch information letter (ref. 3792idiot) - Avangar Technologies announces the beginning of a new unprecendented global employment campaign. reviser yeller winers butchery twenties Due to company's exploding growth Avangar is expanding business to the European region. During last employment campaign over 1500 people worldwide took part in Avangar's business and more than half of them are currently employed by the company. \n",
      "Spam: Yes 100.00%\n",
      "\n",
      "Email: AMATEUR TEEN WEBCAMS - FROM AROUND THE WORLD OR RIGHT NEXT DOOR - The people who solicit business from the clients of other sites know perfectly well that they have no pre-existing business relationship with the recipients. Some site-newbies send just one or two emails and are quoted on our 'named' page having been unable to read the clear terms of use of antespam protected email addresses \n",
      "Spam: Yes 100.00%\n",
      "\n",
      "Email: On Demand Webinar Access The London Resort will be a tier one theme park on the bank of the River Thames 17 minutes from Central London. \n",
      "Spam: No 99.58%\n",
      "\n",
      "Email: Submit your travel related site! - If you own a travel related website, why not submit your site to our directory. \n",
      "Spam: No 91.67%\n",
      "\n",
      "Email: Happening Now ** 70% OFF Membership ** Don't Miss This BLACK FRIDAY With Us! Offer Ends Today! Sale of 70% off PRO membership--Offered only once a year. Offer ends TODAY Friday 11/27/2020. \n",
      "Spam: Yes 99.48%\n",
      "\n",
      "Email: Here comes another year of giving thanks for all the blessings we received. Happy Thanksgiving to everyone celebrating. I hope you have a great year ahead. Happy thanksgiving. \n",
      "Spam: Yes 99.38%\n",
      "\n",
      "Email: Great news, we’re progressing your application through to phone interview! This will be a quick call to get to know more about your skills and experience in relation to the role. Please let me know all your available time slots by selecting them from the calendar linked below. \n",
      "Spam: No 69.24%\n",
      "\n"
     ]
    }
   ],
   "source": [
    "emails = [\"JobSearch information letter (ref. 3792idiot) - Avangar Technologies announces the beginning of a new unprecendented global employment campaign. reviser yeller winers butchery twenties Due to company's exploding growth Avangar is expanding business to the European region. During last employment campaign over 1500 people worldwide took part in Avangar's business and more than half of them are currently employed by the company.\"        , \"AMATEUR TEEN WEBCAMS - FROM AROUND THE WORLD OR RIGHT NEXT DOOR - The people who solicit business from the clients of other sites know perfectly well that they have no pre-existing business relationship with the recipients. Some site-newbies send just one or two emails and are quoted on our 'named' page having been unable to read the clear terms of use of antespam protected email addresses\"\n",
    "        , \"On Demand Webinar Access The London Resort will be a tier one theme park on the bank of the River Thames 17 minutes from Central London.\"\n",
    "        , \"Submit your travel related site! - If you own a travel related website, why not submit your site to our directory.\"\n",
    "        , \"Happening Now ** 70% OFF Membership ** Don't Miss This BLACK FRIDAY With Us! Offer Ends Today! Sale of 70% off PRO membership--Offered only once a year. Offer ends TODAY Friday 11/27/2020.\"\n",
    "        , \"Here comes another year of giving thanks for all the blessings we received. Happy Thanksgiving to everyone celebrating. I hope you have a great year ahead. Happy thanksgiving.\"\n",
    "        , \"Great news, we’re progressing your application through to phone interview! This will be a quick call to get to know more about your skills and experience in relation to the role. Please let me know all your available time slots by selecting them from the calendar linked below.\"\n",
    "]\n",
    "\n",
    "email_seq = tokenizer.texts_to_sequences(emails)\n",
    "email_padd = pad_sequences(email_seq, maxlen=max_len, padding='pre')\n",
    "\n",
    "prob = model_1.predict(email_padd)\n",
    "pred = prob.argmax(axis=1)\n",
    "\n",
    "\n",
    "classifier = {'No':0, 'Yes':1}\n",
    "classifier_key = list(classifier.keys())\n",
    "classifier_value = list(classifier.values())\n",
    "\n",
    "\n",
    "for idx, i in enumerate(pred):\n",
    "\n",
    "    print(f'Email: {emails[idx]} \\nSpam: {classifier_key[classifier_value.index(i)]} {(prob[idx][i] * 100):.2f}%\\n')\n"
   ]
  }
 ],
 "metadata": {
  "accelerator": "GPU",
  "colab": {
   "authorship_tag": "ABX9TyOqYoz+0sEhFnFha9Al9VWi",
   "collapsed_sections": [],
   "mount_file_id": "1vNdlpz98RXZw-Mk9uZ2bMiNvfvV35GlK",
   "name": "email_spam.ipynb",
   "provenance": []
  },
  "kernelspec": {
   "display_name": "Python 3",
   "language": "python",
   "name": "python3"
  },
  "language_info": {
   "codemirror_mode": {
    "name": "ipython",
    "version": 3
   },
   "file_extension": ".py",
   "mimetype": "text/x-python",
   "name": "python",
   "nbconvert_exporter": "python",
   "pygments_lexer": "ipython3",
   "version": "3.8.6"
  }
 },
 "nbformat": 4,
 "nbformat_minor": 1
}
