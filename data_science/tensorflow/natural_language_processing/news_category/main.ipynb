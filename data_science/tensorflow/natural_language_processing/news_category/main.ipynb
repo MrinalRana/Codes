{
 "cells": [
  {
   "cell_type": "markdown",
   "metadata": {
    "id": "jbRUPDLHfvPS"
   },
   "source": [
    "# **News Cateogry Classification**\n",
    "\n",
    "* 200k+ News Headlines\n",
    "* 41 Categories\n",
    "\n",
    "To download data visit **[here](https://www.kaggle.com/rmisra/news-category-dataset/home)**"
   ]
  },
  {
   "cell_type": "markdown",
   "metadata": {
    "id": "FYIpoAwK8fs9"
   },
   "source": [
    "### Specify the memory used by GPU (optional)"
   ]
  },
  {
   "cell_type": "code",
   "execution_count": 1,
   "metadata": {
    "executionInfo": {
     "elapsed": 329,
     "status": "ok",
     "timestamp": 1606107309752,
     "user": {
      "displayName": "Adit Chaudhary",
      "photoUrl": "",
      "userId": "04096686166570386707"
     },
     "user_tz": 300
    },
    "id": "6l8PE0TGssXw"
   },
   "outputs": [],
   "source": [
    "# import tensorflow as tf\n",
    "\n",
    "# gpus = tf.config.experimental.list_physical_devices('GPU')\n",
    "# if gpus:\n",
    "#   # Restrict TensorFlow to only allocate 1GB of memory on the first GPU\n",
    "#     try:\n",
    "#         tf.config.experimental.set_virtual_device_configuration(\n",
    "#         gpus[0],\n",
    "#         [tf.config.experimental.VirtualDeviceConfiguration(memory_limit=4000)])\n",
    "#         logical_gpus = tf.config.experimental.list_logical_devices('GPU')\n",
    "#         print(len(gpus), \"Physical GPUs,\", len(logical_gpus), \"Logical GPUs\")\n",
    "#     except RuntimeError as e:\n",
    "#     # Virtual devices must be set before GPUs have been initialized\n",
    "#         print(e)"
   ]
  },
  {
   "cell_type": "markdown",
   "metadata": {
    "id": "IvKSTMLe_LUz"
   },
   "source": [
    "## **Data Preprocessing**"
   ]
  },
  {
   "cell_type": "markdown",
   "metadata": {
    "id": "a82l_2Ga8ru_"
   },
   "source": [
    "### Load Data"
   ]
  },
  {
   "cell_type": "code",
   "execution_count": 2,
   "metadata": {
    "colab": {
     "base_uri": "https://localhost:8080/"
    },
    "executionInfo": {
     "elapsed": 21887,
     "status": "ok",
     "timestamp": 1606107331325,
     "user": {
      "displayName": "Adit Chaudhary",
      "photoUrl": "",
      "userId": "04096686166570386707"
     },
     "user_tz": 300
    },
    "id": "VAh4RQ1YcwUL",
    "outputId": "d1bc2d3b-077c-4bb3-c8e8-62d6afc26b87"
   },
   "outputs": [
    {
     "name": "stdout",
     "output_type": "stream",
     "text": [
      "number of records: 200853\n",
      "first record: {'category': 'HOME & LIVING', 'headline': 'How To Clean A Coffee Maker Using This...Fruit?', 'authors': 'Diana N. Nguyen', 'link': 'https://www.huffingtonpost.com/entry/how-to-clean-coffee-maker_us_5b9bc563e4b03a1dcc7a38f2', 'short_description': \"If you're a daily coffee drinker, you know that going out for a cup of joe can add up to a pricey monthly expense. Thankfully\", 'date': '2012-05-30'}\n"
     ]
    }
   ],
   "source": [
    "import json\n",
    "import numpy as np\n",
    "\n",
    "data = []\n",
    "\n",
    "with open(\"data/News_Category_Dataset_v2.json\",'r') as f:\n",
    "    for line in f:\n",
    "        data.append(json.loads(line))\n",
    "\n",
    "np.random.shuffle(data)\n",
    "print('number of records:', len(data))\n",
    "print('first record:', data[0])"
   ]
  },
  {
   "cell_type": "markdown",
   "metadata": {
    "id": "7UGrb4yuiwV5"
   },
   "source": [
    "### A look on Labels"
   ]
  },
  {
   "cell_type": "code",
   "execution_count": 3,
   "metadata": {
    "colab": {
     "base_uri": "https://localhost:8080/"
    },
    "executionInfo": {
     "elapsed": 22028,
     "status": "ok",
     "timestamp": 1606107331473,
     "user": {
      "displayName": "Adit Chaudhary",
      "photoUrl": "",
      "userId": "04096686166570386707"
     },
     "user_tz": 300
    },
    "id": "8zLgy91nhZjq",
    "outputId": "55e42360-b55c-48f6-a31b-29785a03ed23"
   },
   "outputs": [
    {
     "name": "stdout",
     "output_type": "stream",
     "text": [
      "unique labels: ['ARTS', 'ARTS & CULTURE', 'BLACK VOICES', 'BUSINESS', 'COLLEGE', 'COMEDY', 'CRIME', 'CULTURE & ARTS', 'DIVORCE', 'EDUCATION', 'ENTERTAINMENT', 'ENVIRONMENT', 'FIFTY', 'FOOD & DRINK', 'GOOD NEWS', 'GREEN', 'HEALTHY LIVING', 'HOME & LIVING', 'IMPACT', 'LATINO VOICES', 'MEDIA', 'MONEY', 'PARENTING', 'PARENTS', 'POLITICS', 'QUEER VOICES', 'RELIGION', 'SCIENCE', 'SPORTS', 'STYLE', 'STYLE & BEAUTY', 'TASTE', 'TECH', 'THE WORLDPOST', 'TRAVEL', 'WEDDINGS', 'WEIRD NEWS', 'WELLNESS', 'WOMEN', 'WORLD NEWS', 'WORLDPOST']\n",
      "\n",
      "unique length of labels: 41\n"
     ]
    }
   ],
   "source": [
    "labels = set()\n",
    "\n",
    "for i in data:\n",
    "    labels.add(i[\"category\"])\n",
    "\n",
    "print('unique labels:', sorted(labels, reverse=False))\n",
    "print('\\nunique length of labels:', len(labels))"
   ]
  },
  {
   "cell_type": "markdown",
   "metadata": {
    "id": "OCbZwicu9ltY"
   },
   "source": [
    "### A look on Features"
   ]
  },
  {
   "cell_type": "code",
   "execution_count": 4,
   "metadata": {
    "colab": {
     "base_uri": "https://localhost:8080/"
    },
    "executionInfo": {
     "elapsed": 22345,
     "status": "ok",
     "timestamp": 1606107331796,
     "user": {
      "displayName": "Adit Chaudhary",
      "photoUrl": "",
      "userId": "04096686166570386707"
     },
     "user_tz": 300
    },
    "id": "bXip3Ss8Kz63",
    "outputId": "0d83086d-6ba4-434d-e044-e4fd39d96c3e"
   },
   "outputs": [
    {
     "name": "stdout",
     "output_type": "stream",
     "text": [
      "feature[0]: How To Clean A Coffee Maker Using This...Fruit? If you're a daily coffee drinker, you know that going out for a cup of joe can add up to a pricey monthly expense. Thankfully\n",
      "min feature length: 1\n",
      "max feature length: 1487\n"
     ]
    }
   ],
   "source": [
    "features = []\n",
    "\n",
    "for i in data:\n",
    "    features.append(i['headline'] + \" \" + i['short_description'])\n",
    "\n",
    "print('feature[0]:', features[0])\n",
    "\n",
    "min_feature_len = min(len(i) for i in features)\n",
    "print('min feature length:', min_feature_len)\n",
    "\n",
    "max_feature_len = max(len(i) for i in features)\n",
    "print('max feature length:', max_feature_len)"
   ]
  },
  {
   "cell_type": "markdown",
   "metadata": {
    "id": "w9ue5CjN9yCt"
   },
   "source": [
    "### Importing StopWords"
   ]
  },
  {
   "cell_type": "code",
   "execution_count": 5,
   "metadata": {
    "colab": {
     "base_uri": "https://localhost:8080/"
    },
    "executionInfo": {
     "elapsed": 23721,
     "status": "ok",
     "timestamp": 1606107333177,
     "user": {
      "displayName": "Adit Chaudhary",
      "photoUrl": "",
      "userId": "04096686166570386707"
     },
     "user_tz": 300
    },
    "id": "CJjqesayvI9H",
    "outputId": "e9e0524d-8a35-458c-82e4-bbd83f4c537e"
   },
   "outputs": [
    {
     "name": "stdout",
     "output_type": "stream",
     "text": [
      "[nltk_data] Downloading package stopwords to /root/nltk_data...\n",
      "[nltk_data]   Unzipping corpora/stopwords.zip.\n",
      "\n",
      "number of stopwords: 179\n",
      "\n",
      "first 10 stopwords: ['i', 'me', 'my', 'myself', 'we', 'our', 'ours', 'ourselves', 'you', \"you're\"]\n"
     ]
    }
   ],
   "source": [
    "import nltk\n",
    "from nltk.corpus import stopwords\n",
    "\n",
    "nltk.download(\"stopwords\")\n",
    "\n",
    "stpwords = stopwords.words('english')\n",
    "print('\\nnumber of stopwords:', len(stpwords))\n",
    "print('\\nfirst 10 stopwords:', stpwords[:10])"
   ]
  },
  {
   "cell_type": "markdown",
   "metadata": {
    "id": "92oTN_72-DvF"
   },
   "source": [
    "### Preparing Data"
   ]
  },
  {
   "cell_type": "code",
   "execution_count": 6,
   "metadata": {
    "colab": {
     "base_uri": "https://localhost:8080/"
    },
    "executionInfo": {
     "elapsed": 33843,
     "status": "ok",
     "timestamp": 1606107343306,
     "user": {
      "displayName": "Adit Chaudhary",
      "photoUrl": "",
      "userId": "04096686166570386707"
     },
     "user_tz": 300
    },
    "id": "pcXnaLQtnf1E",
    "outputId": "2710ee03-4fa6-4dbd-88a9-a2191d6d739d"
   },
   "outputs": [
    {
     "name": "stdout",
     "output_type": "stream",
     "text": [
      "length of unique labels: 35\n",
      "length of labels: 194458\n",
      "length of new_features: 194458\n",
      "\n",
      "old features[0]: How To Clean A Coffee Maker Using This...Fruit? If you're a daily coffee drinker, you know that going out for a cup of joe can add up to a pricey monthly expense. Thankfully\n",
      "new feature[0]: clean coffee maker using this...fruit? daily coffee drinker, know going cup joe add pricey monthly expense. thankfully\n"
     ]
    }
   ],
   "source": [
    "  new_features = []\n",
    "  \n",
    "  # for line in features:\n",
    "  #   a = []\n",
    "  #   for word in line.split():\n",
    "\n",
    "  #       if word not in stpwords:\n",
    "  #           a.append(word.lower())\n",
    "\n",
    "  #   new_features.append(' '.join(a))\n",
    "\n",
    "labels = []\n",
    "\n",
    "\n",
    "for idx, i in enumerate(data):\n",
    "    a = []\n",
    "    for word in features[idx].split():\n",
    "\n",
    "        if word.lower() not in stpwords:\n",
    "            a.append(word.lower())\n",
    "    \n",
    "    if len(a) > 5:\n",
    "        new_features.append(' '.join(a))\n",
    "\n",
    "\n",
    "        if i['category'] in [\"ARTS\", \"CULTURE & ARTS\"]:\n",
    "            i['category'] = \"ARTS & CULTURE\"\n",
    "        if i['category'] in [\"HOME & LIVING\", \"HEALTHY LIVING\"]:\n",
    "            i['category'] = \"LIVING\"\n",
    "        if i['category'] == \"STYLE\":\n",
    "            i['category'] = \"STYLE & BEAUTY\"\n",
    "        if i['category'] == \"WORLDPOST\":\n",
    "            i['category'] = \"THE WORLDPOST\"\n",
    "        if i['category'] == \"PARENTING\":\n",
    "            i['category'] = \"PARENTS\"\n",
    "        labels.append(i['category'])\n",
    "\n",
    "print(\"length of unique labels:\", len(list(set(labels))))\n",
    "print('length of labels:', len(labels))\n",
    "print('length of new_features:', len(new_features))\n",
    "print('\\nold features[0]:', features[0])\n",
    "print('new feature[0]:', new_features[0])"
   ]
  },
  {
   "cell_type": "markdown",
   "metadata": {
    "id": "Zg4zmxNc_kLA"
   },
   "source": [
    "### A look on Shuffled Labels"
   ]
  },
  {
   "cell_type": "code",
   "execution_count": 7,
   "metadata": {
    "colab": {
     "base_uri": "https://localhost:8080/"
    },
    "executionInfo": {
     "elapsed": 33840,
     "status": "ok",
     "timestamp": 1606107343308,
     "user": {
      "displayName": "Adit Chaudhary",
      "photoUrl": "",
      "userId": "04096686166570386707"
     },
     "user_tz": 300
    },
    "id": "hrdv7zllZkga",
    "outputId": "482fc95d-6ea9-4b32-e3de-eabe09b6a6d9"
   },
   "outputs": [
    {
     "name": "stdout",
     "output_type": "stream",
     "text": [
      "LIVING\n",
      "TRAVEL\n",
      "POLITICS\n",
      "WELLNESS\n",
      "BLACK VOICES\n",
      "TECH\n",
      "POLITICS\n",
      "TRAVEL\n",
      "WELLNESS\n",
      "POLITICS\n"
     ]
    }
   ],
   "source": [
    "for i in range(10):\n",
    "    print(labels[i])"
   ]
  },
  {
   "cell_type": "markdown",
   "metadata": {
    "id": "jggg48zrAh3h"
   },
   "source": [
    "### Labels Encoding"
   ]
  },
  {
   "cell_type": "code",
   "execution_count": 8,
   "metadata": {
    "colab": {
     "base_uri": "https://localhost:8080/"
    },
    "executionInfo": {
     "elapsed": 33834,
     "status": "ok",
     "timestamp": 1606107343309,
     "user": {
      "displayName": "Adit Chaudhary",
      "photoUrl": "",
      "userId": "04096686166570386707"
     },
     "user_tz": 300
    },
    "id": "nQHjRi5CREx1",
    "outputId": "7de79d90-f185-4cf8-f15d-e7b9c3eded79"
   },
   "outputs": [
    {
     "name": "stdout",
     "output_type": "stream",
     "text": [
      "labels without indices: ['PARENTS', 'TRAVEL', 'BUSINESS', 'LIVING', 'SCIENCE', 'DIVORCE', 'IMPACT', 'MONEY', 'WOMEN', 'WELLNESS', 'COLLEGE', 'QUEER VOICES', 'LATINO VOICES', 'RELIGION', 'ARTS & CULTURE', 'FIFTY', 'WEDDINGS', 'CRIME', 'POLITICS', 'ENTERTAINMENT', 'THE WORLDPOST', 'SPORTS', 'TASTE', 'MEDIA', 'EDUCATION', 'TECH', 'STYLE & BEAUTY', 'GREEN', 'WEIRD NEWS', 'COMEDY', 'ENVIRONMENT', 'FOOD & DRINK', 'BLACK VOICES', 'WORLD NEWS', 'GOOD NEWS']\n",
      "\n",
      "labels with indices: {'PARENTS': 0, 'TRAVEL': 1, 'BUSINESS': 2, 'LIVING': 3, 'SCIENCE': 4, 'DIVORCE': 5, 'IMPACT': 6, 'MONEY': 7, 'WOMEN': 8, 'WELLNESS': 9, 'COLLEGE': 10, 'QUEER VOICES': 11, 'LATINO VOICES': 12, 'RELIGION': 13, 'ARTS & CULTURE': 14, 'FIFTY': 15, 'WEDDINGS': 16, 'CRIME': 17, 'POLITICS': 18, 'ENTERTAINMENT': 19, 'THE WORLDPOST': 20, 'SPORTS': 21, 'TASTE': 22, 'MEDIA': 23, 'EDUCATION': 24, 'TECH': 25, 'STYLE & BEAUTY': 26, 'GREEN': 27, 'WEIRD NEWS': 28, 'COMEDY': 29, 'ENVIRONMENT': 30, 'FOOD & DRINK': 31, 'BLACK VOICES': 32, 'WORLD NEWS': 33, 'GOOD NEWS': 34}\n",
      "\n",
      "labels before indices:\n",
      "LIVING\n",
      "TRAVEL\n",
      "POLITICS\n",
      "WELLNESS\n",
      "BLACK VOICES\n",
      "\n",
      "labels after indices:\n",
      "3\n",
      "1\n",
      "18\n",
      "9\n",
      "32\n"
     ]
    }
   ],
   "source": [
    "label_unique = list(set(labels))\n",
    "print('labels without indices:', label_unique)\n",
    "\n",
    "labels_encode = {}\n",
    "for i, name in enumerate(label_unique):\n",
    "    labels_encode.update({name:i})\n",
    "\n",
    "print('\\nlabels with indices:', labels_encode)\n",
    "\n",
    "new_labels = []\n",
    "\n",
    "for i in labels:\n",
    "    new_labels.append(labels_encode[i])\n",
    "\n",
    "print('\\nlabels before indices:')\n",
    "for i in range(5):\n",
    "    print(labels[i])\n",
    "\n",
    "print('\\nlabels after indices:')\n",
    "for i in range(5):\n",
    "    print(new_labels[i])\n",
    "\n",
    "## Another way\n",
    "# from sklearn.preprocessing import LabelEncoder\n",
    "# a = [2,3,4,6]\n",
    "# enc = LabelEncoder()\n",
    "# a = enc.fit_transform(a)"
   ]
  },
  {
   "cell_type": "markdown",
   "metadata": {
    "id": "XIgu7Pk1AoYv"
   },
   "source": [
    "### Splitting Training and Test data"
   ]
  },
  {
   "cell_type": "code",
   "execution_count": 9,
   "metadata": {
    "colab": {
     "base_uri": "https://localhost:8080/"
    },
    "executionInfo": {
     "elapsed": 34006,
     "status": "ok",
     "timestamp": 1606107343486,
     "user": {
      "displayName": "Adit Chaudhary",
      "photoUrl": "",
      "userId": "04096686166570386707"
     },
     "user_tz": 300
    },
    "id": "MsfLo5NO_IwJ",
    "outputId": "48868d91-97f8-4aa9-e6f9-82b55994e526"
   },
   "outputs": [
    {
     "name": "stdout",
     "output_type": "stream",
     "text": [
      "length of x_train_raw: 175013\n",
      "length of x_test_raw: 19445\n",
      "\n",
      "x_train[0]:\n",
      " paul ryan's primary challenger basically mini donald trump paul nehlen thinks u.s. consider deporting muslims.\n",
      "\n",
      "y_train[0]:\n",
      " 18\n"
     ]
    }
   ],
   "source": [
    "split_size = int(len(new_features) * .10)\n",
    "\n",
    "x_train_raw = new_features[split_size:]\n",
    "y_train = new_labels[split_size:]\n",
    "\n",
    "x_test_raw = new_features[:split_size]\n",
    "y_test = new_labels[:split_size]\n",
    "\n",
    "print('length of x_train_raw:', len(x_train_raw))\n",
    "print('length of x_test_raw:', len(x_test_raw))\n",
    "\n",
    "print('\\nx_train[0]:\\n', x_train_raw[0])\n",
    "print('\\ny_train[0]:\\n', y_train[0])"
   ]
  },
  {
   "cell_type": "markdown",
   "metadata": {
    "id": "9ZaPE605A4TQ"
   },
   "source": [
    "### Turning each text into a sequence of integer"
   ]
  },
  {
   "cell_type": "code",
   "execution_count": 10,
   "metadata": {
    "colab": {
     "base_uri": "https://localhost:8080/"
    },
    "executionInfo": {
     "elapsed": 38991,
     "status": "ok",
     "timestamp": 1606107348477,
     "user": {
      "displayName": "Adit Chaudhary",
      "photoUrl": "",
      "userId": "04096686166570386707"
     },
     "user_tz": 300
    },
    "id": "RtEkbE5anfvY",
    "outputId": "027ad646-2ccb-463f-ba91-e5d49520baac"
   },
   "outputs": [
    {
     "name": "stdout",
     "output_type": "stream",
     "text": [
      "109104\n"
     ]
    }
   ],
   "source": [
    "import tensorflow as tf\n",
    "from tensorflow.keras.preprocessing.text import Tokenizer\n",
    "from tensorflow.keras.preprocessing.sequence import pad_sequences\n",
    "\n",
    "tokenizer = Tokenizer()\n",
    "tokenizer.fit_on_texts(x_train_raw)\n",
    "total_words = len(tokenizer.word_index)+1\n",
    "print(total_words)"
   ]
  },
  {
   "cell_type": "markdown",
   "metadata": {
    "id": "P9VJmgdCBSLI"
   },
   "source": [
    "### Sequencing and Padding corpus"
   ]
  },
  {
   "cell_type": "code",
   "execution_count": 11,
   "metadata": {
    "colab": {
     "base_uri": "https://localhost:8080/"
    },
    "executionInfo": {
     "elapsed": 43166,
     "status": "ok",
     "timestamp": 1606107352658,
     "user": {
      "displayName": "Adit Chaudhary",
      "photoUrl": "",
      "userId": "04096686166570386707"
     },
     "user_tz": 300
    },
    "id": "a6DK8jmxSKGl",
    "outputId": "0db2f91e-63cb-408a-a3d3-8ce717eccfd7"
   },
   "outputs": [
    {
     "name": "stdout",
     "output_type": "stream",
     "text": [
      "max length of x_train_seq: 153\n",
      "max length of y_train: 34\n",
      "\n",
      "before sequencing y_train[0]:\n",
      " 18\n",
      "\n",
      "after sequencing y_train[0]:\n",
      " [0. 0. 0. 0. 0. 0. 0. 0. 0. 0. 0. 0. 0. 0. 0. 0. 0. 0. 1. 0. 0. 0. 0. 0.\n",
      " 0. 0. 0. 0. 0. 0. 0. 0. 0. 0. 0.]\n",
      "\n",
      "before sequencing y_test[0]:\n",
      " 3\n",
      "\n",
      "after sequencing y_test[0]:\n",
      " [0. 0. 0. 1. 0. 0. 0. 0. 0. 0. 0. 0. 0. 0. 0. 0. 0. 0. 0. 0. 0. 0. 0. 0.\n",
      " 0. 0. 0. 0. 0. 0. 0. 0. 0. 0. 0.]\n"
     ]
    }
   ],
   "source": [
    "x_train_seq = tokenizer.texts_to_sequences(x_train_raw)\n",
    "max_len = max([len(i) for i in x_train_seq])\n",
    "print('max length of x_train_seq:', max_len)\n",
    "x_train = pad_sequences(x_train_seq, maxlen=max_len, padding='pre')\n",
    "\n",
    "\n",
    "x_test_seq = tokenizer.texts_to_sequences(x_test_raw)\n",
    "x_test = pad_sequences(x_test_seq, maxlen=max_len, padding='pre')\n",
    "\n",
    "\n",
    "print('max length of y_train:', max(y_train))\n",
    "print('\\nbefore sequencing y_train[0]:\\n', y_train[0])\n",
    "y_train = tf.keras.utils.to_categorical(y_train, num_classes=max(y_train)+1)\n",
    "print('\\nafter sequencing y_train[0]:\\n', y_train[0])\n",
    "\n",
    "\n",
    "\n",
    "print('\\nbefore sequencing y_test[0]:\\n', y_test[0])\n",
    "y_test = tf.keras.utils.to_categorical(y_test, num_classes=max(y_test)+1)\n",
    "print('\\nafter sequencing y_test[0]:\\n', y_test[0])"
   ]
  },
  {
   "cell_type": "markdown",
   "metadata": {
    "id": "4bwlp2lvBuqb"
   },
   "source": [
    "### Converting data in array form"
   ]
  },
  {
   "cell_type": "code",
   "execution_count": 12,
   "metadata": {
    "colab": {
     "base_uri": "https://localhost:8080/"
    },
    "executionInfo": {
     "elapsed": 43160,
     "status": "ok",
     "timestamp": 1606107352658,
     "user": {
      "displayName": "Adit Chaudhary",
      "photoUrl": "",
      "userId": "04096686166570386707"
     },
     "user_tz": 300
    },
    "id": "DCCP2M3geteA",
    "outputId": "7e9c3051-9d07-413d-e237-fd747a91cee8"
   },
   "outputs": [
    {
     "name": "stdout",
     "output_type": "stream",
     "text": [
      "x_train shape: (175013, 153)\n",
      "y_train shape: (175013, 35)\n",
      "x_test shape: (19445, 153)\n",
      "y_test shape: (19445, 35)\n",
      "\n",
      "x_train[0]:\n",
      " [    0     0     0     0     0     0     0     0     0     0     0     0\n",
      "     0     0     0     0     0     0     0     0     0     0     0     0\n",
      "     0     0     0     0     0     0     0     0     0     0     0     0\n",
      "     0     0     0     0     0     0     0     0     0     0     0     0\n",
      "     0     0     0     0     0     0     0     0     0     0     0     0\n",
      "     0     0     0     0     0     0     0     0     0     0     0     0\n",
      "     0     0     0     0     0     0     0     0     0     0     0     0\n",
      "     0     0     0     0     0     0     0     0     0     0     0     0\n",
      "     0     0     0     0     0     0     0     0     0     0     0     0\n",
      "     0     0     0     0     0     0     0     0     0     0     0     0\n",
      "     0     0     0     0     0     0     0     0     0     0     0     0\n",
      "     0     0     0     0     0   531  6199  1115  6472  2706  3095    29\n",
      "     3   531 34062  1107    35    36   808 16377  1747]\n",
      "\n",
      "x_test[0]:\n",
      " [    0     0     0     0     0     0     0     0     0     0     0     0\n",
      "     0     0     0     0     0     0     0     0     0     0     0     0\n",
      "     0     0     0     0     0     0     0     0     0     0     0     0\n",
      "     0     0     0     0     0     0     0     0     0     0     0     0\n",
      "     0     0     0     0     0     0     0     0     0     0     0     0\n",
      "     0     0     0     0     0     0     0     0     0     0     0     0\n",
      "     0     0     0     0     0     0     0     0     0     0     0     0\n",
      "     0     0     0     0     0     0     0     0     0     0     0     0\n",
      "     0     0     0     0     0     0     0     0     0     0     0     0\n",
      "     0     0     0     0     0     0     0     0     0     0     0     0\n",
      "     0     0     0     0     0     0     0     0     0     0     0     0\n",
      "     0     0     0   957   981  4887   512   294  2374   445   981 28086\n",
      "    16    73  1503  1175  1213 12505  7285  8691  5829]\n"
     ]
    }
   ],
   "source": [
    "import numpy as np\n",
    "\n",
    "x_train = np.array(x_train)\n",
    "y_train = np.array(y_train)\n",
    "\n",
    "x_test = np.array(x_test)\n",
    "y_test = np.array(y_test)\n",
    "\n",
    "print('x_train shape:', x_train.shape)\n",
    "print('y_train shape:', y_train.shape)\n",
    "print('x_test shape:', x_test.shape)\n",
    "print('y_test shape:', y_test.shape)\n",
    "\n",
    "print('\\nx_train[0]:\\n',x_train[0])\n",
    "print('\\nx_test[0]:\\n', x_test[0])\n"
   ]
  },
  {
   "cell_type": "markdown",
   "metadata": {
    "id": "IF7GVAX8B8tR"
   },
   "source": [
    "### Scalling the data"
   ]
  },
  {
   "cell_type": "code",
   "execution_count": 13,
   "metadata": {
    "executionInfo": {
     "elapsed": 43159,
     "status": "ok",
     "timestamp": 1606107352659,
     "user": {
      "displayName": "Adit Chaudhary",
      "photoUrl": "",
      "userId": "04096686166570386707"
     },
     "user_tz": 300
    },
    "id": "zvhpnM1gKD2d"
   },
   "outputs": [],
   "source": [
    "# from sklearn.preprocessing import StandardScaler\n",
    "\n",
    "# ss = StandardScaler()\n",
    "# x_train = ss.fit_transform(x_train)\n",
    "# x_test = ss.fit_transform(x_test)\n",
    "\n",
    "# print(x_train[0])\n",
    "# print(x_test[0])"
   ]
  },
  {
   "cell_type": "markdown",
   "metadata": {
    "id": "iMHF7ytzCD4L"
   },
   "source": [
    "### Saving training"
   ]
  },
  {
   "cell_type": "code",
   "execution_count": 14,
   "metadata": {
    "executionInfo": {
     "elapsed": 43158,
     "status": "ok",
     "timestamp": 1606107352660,
     "user": {
      "displayName": "Adit Chaudhary",
      "photoUrl": "",
      "userId": "04096686166570386707"
     },
     "user_tz": 300
    },
    "id": "Wr6N1-0rHrbR"
   },
   "outputs": [],
   "source": [
    "# import pickle as pkl\n",
    "\n",
    "# #to save it\n",
    "# with open(\"train.pkl\", \"wb\") as f:\n",
    "#     pkl.dump([x_train, y_train], f)\n",
    "\n",
    "# #to load it\n",
    "# with open(\"train.pkl\", \"rb\") as f:\n",
    "#     x_train, y_train = pkl.load(f)"
   ]
  },
  {
   "cell_type": "markdown",
   "metadata": {
    "id": "xOGfuAGXCJZJ"
   },
   "source": [
    "### Preparing and Training Model"
   ]
  },
  {
   "cell_type": "code",
   "execution_count": 15,
   "metadata": {
    "colab": {
     "base_uri": "https://localhost:8080/"
    },
    "executionInfo": {
     "elapsed": 2280050,
     "status": "ok",
     "timestamp": 1606109589558,
     "user": {
      "displayName": "Adit Chaudhary",
      "photoUrl": "",
      "userId": "04096686166570386707"
     },
     "user_tz": 300
    },
    "id": "wDhIZeyLaat1",
    "outputId": "e00eaa30-1ea3-4271-8266-e075ff52ee3e"
   },
   "outputs": [
    {
     "name": "stdout",
     "output_type": "stream",
     "text": [
      "Model: \"sequential\"\n",
      "_________________________________________________________________\n",
      "Layer (type)                 Output Shape              Param #   \n",
      "=================================================================\n",
      "embedding (Embedding)        (None, 153, 216)          23566464  \n",
      "_________________________________________________________________\n",
      "dropout (Dropout)            (None, 153, 216)          0         \n",
      "_________________________________________________________________\n",
      "bidirectional (Bidirectional (None, 96)                101760    \n",
      "_________________________________________________________________\n",
      "batch_normalization (BatchNo (None, 96)                384       \n",
      "_________________________________________________________________\n",
      "dropout_1 (Dropout)          (None, 96)                0         \n",
      "_________________________________________________________________\n",
      "dense (Dense)                (None, 140)               13580     \n",
      "_________________________________________________________________\n",
      "dropout_2 (Dropout)          (None, 140)               0         \n",
      "_________________________________________________________________\n",
      "dense_1 (Dense)              (None, 35)                4935      \n",
      "=================================================================\n",
      "Total params: 23,687,123\n",
      "Trainable params: 23,686,931\n",
      "Non-trainable params: 192\n",
      "_________________________________________________________________\n",
      "Epoch 1/4\n",
      "2462/2462 - 557s - loss: 2.1331 - accuracy: 0.4488 - val_loss: 1.5580 - val_accuracy: 0.5774\n",
      "Epoch 2/4\n",
      "2462/2462 - 553s - loss: 1.5102 - accuracy: 0.5998 - val_loss: 1.4475 - val_accuracy: 0.6128\n",
      "Epoch 3/4\n",
      "2462/2462 - 554s - loss: 1.2520 - accuracy: 0.6614 - val_loss: 1.4744 - val_accuracy: 0.6127\n",
      "Epoch 4/4\n",
      "2462/2462 - 555s - loss: 1.0613 - accuracy: 0.7094 - val_loss: 1.5379 - val_accuracy: 0.6156\n",
      "\n",
      "Saving Model...\n"
     ]
    }
   ],
   "source": [
    "from tensorflow.keras import losses, optimizers, Sequential\n",
    "from tensorflow.keras import layers\n",
    "\n",
    "\n",
    "model = Sequential([\n",
    "                  layers.Embedding(input_dim=total_words, output_dim=216, input_length=max_len),\n",
    "                  # layers.GlobalAveragePooling1D(),\n",
    "                  \n",
    "                  layers.Dropout(.4),\n",
    "                  layers.Bidirectional(layers.LSTM(48)),\n",
    "                  # layers.Dropout(.5),\n",
    "                  # layers.LSTM(96),\n",
    "                  layers.BatchNormalization(),\n",
    "    \n",
    "                  layers.Dropout(.5),\n",
    "                  layers.Dense(140, activation=tf.nn.leaky_relu),\n",
    "                  layers.Dropout(.5),               \n",
    "                  layers.Dense(35, activation='softmax')\n",
    "])\n",
    "model.summary()\n",
    "model.compile(loss=losses.categorical_crossentropy, optimizer=optimizers.Adam(lr=1e-3), metrics=['accuracy'])\n",
    "history = model.fit(x_train, y_train, epochs=4, verbose=2, validation_split=0.1, batch_size=64) \n",
    "\n",
    "print('\\nSaving Model...')\n",
    "model.save('model')"
   ]
  },
  {
   "cell_type": "markdown",
   "metadata": {
    "id": "TdhQNiz-CRED"
   },
   "source": [
    "### Visualizing the Loss and Accuracy"
   ]
  },
  {
   "cell_type": "code",
   "execution_count": 16,
   "metadata": {
    "colab": {
     "base_uri": "https://localhost:8080/",
     "height": 541
    },
    "executionInfo": {
     "elapsed": 2280389,
     "status": "ok",
     "timestamp": 1606109589904,
     "user": {
      "displayName": "Adit Chaudhary",
      "photoUrl": "",
      "userId": "04096686166570386707"
     },
     "user_tz": 300
    },
    "id": "225qf0u0fntR",
    "outputId": "80b7f74f-35d1-443f-d645-2c8e6b82b0b7"
   },
   "outputs": [
    {
     "data": {
      "image/png": "[encoded data removed]",
      "text/plain": [
       "<Figure size 432x288 with 1 Axes>"
      ]
     },
     "metadata": {
      "needs_background": "light",
      "tags": []
     },
     "output_type": "display_data"
    },
    {
     "data": {
      "image/png": "[encoded data removed]",
      "text/plain": [
       "<Figure size 432x288 with 1 Axes>"
      ]
     },
     "metadata": {
      "needs_background": "light",
      "tags": []
     },
     "output_type": "display_data"
    }
   ],
   "source": [
    "import matplotlib.pyplot as plt\n",
    "\n",
    "def create_graph(h, s):\n",
    "    plt.plot(h.history[s])\n",
    "    plt.plot(h.history[\"val_\"+s])\n",
    "    plt.xlabel(\"epochs\")\n",
    "    plt.ylabel(s)\n",
    "    plt.legend([s,\"val_\"+s])\n",
    "    plt.show()\n",
    "\n",
    "create_graph(history, \"accuracy\")\n",
    "create_graph(history, \"loss\")"
   ]
  },
  {
   "cell_type": "markdown",
   "metadata": {
    "id": "YMWT8IPqCdCq"
   },
   "source": [
    "### Testing the Model Accuracy with fresh data"
   ]
  },
  {
   "cell_type": "code",
   "execution_count": 40,
   "metadata": {
    "colab": {
     "base_uri": "https://localhost:8080/"
    },
    "executionInfo": {
     "elapsed": 11786,
     "status": "ok",
     "timestamp": 1606112130703,
     "user": {
      "displayName": "Adit Chaudhary",
      "photoUrl": "",
      "userId": "04096686166570386707"
     },
     "user_tz": 300
    },
    "id": "SEApSmplvbZp",
    "outputId": "c63bfb9b-efc3-4a5c-bfbf-8837f47465c6"
   },
   "outputs": [
    {
     "name": "stdout",
     "output_type": "stream",
     "text": [
      "608/608 - 4s - loss: 1.5396 - accuracy: 0.6158\n"
     ]
    },
    {
     "data": {
      "text/plain": [
       "[1.5396413803100586, 0.6157881021499634]"
      ]
     },
     "execution_count": 40,
     "metadata": {
      "tags": []
     },
     "output_type": "execute_result"
    }
   ],
   "source": [
    "saved_model = tf.keras.models.load_model('model')\n",
    "\n",
    "saved_model.evaluate(x_test, y_test, verbose=2)"
   ]
  },
  {
   "cell_type": "markdown",
   "metadata": {
    "id": "x9TCjy_n1eEt"
   },
   "source": [
    "### Perform Test on Manual Data"
   ]
  },
  {
   "cell_type": "code",
   "execution_count": 42,
   "metadata": {
    "colab": {
     "base_uri": "https://localhost:8080/"
    },
    "executionInfo": {
     "elapsed": 339,
     "status": "ok",
     "timestamp": 1606112185635,
     "user": {
      "displayName": "Adit Chaudhary",
      "photoUrl": "",
      "userId": "04096686166570386707"
     },
     "user_tz": 300
    },
    "id": "7qGXRQ6tdOYv",
    "outputId": "52d75d7b-14ec-4eca-decb-ebc15e07a1ed"
   },
   "outputs": [
    {
     "name": "stdout",
     "output_type": "stream",
     "text": [
      "News: Man killed in shark attack in Western Australia\n",
      "Category: THE WORLDPOST \n",
      "\n",
      "News: Shooting at Wisconsin mall leaves 8 injured\n",
      "Category: CRIME \n",
      "\n",
      "News: 10,000 People Watched Us Get Married In The Middle Of A Pandemic And It Was Magical\n",
      "Category: WEDDINGS \n",
      "\n",
      "News: Trump Wonders Why Joe Biden Is Forming A Cabinet In Latest Tweet Screed\n",
      "Category: POLITICS \n",
      "\n",
      "News: France pulls ambassador to Turkey after Erdogan calls for mental health check for Macron\n",
      "Category: THE WORLDPOST \n",
      "\n",
      "News: Paul Hornung, NFL Hall Of Fame Running Back, Dies At 84\n",
      "Category: SPORTS \n",
      "\n",
      "News: Stock-market investors brace for busiest week of earnings in October\n",
      "Category: BUSINESS \n",
      "\n",
      "News: Software Dominates Deloitte’s 2020 Tech Fast 500 With 71% Of All Companies\n",
      "Category: TECH \n",
      "\n",
      "News: NASA will be 'hard-pressed' to land astronauts on moon in 2024\n",
      "Category: SCIENCE \n",
      "\n"
     ]
    }
   ],
   "source": [
    "sentences =[\"Man killed in shark attack in Western Australia\", \"Shooting at Wisconsin mall leaves 8 injured\", \"10,000 People Watched Us Get Married In The Middle Of A Pandemic And It Was Magical\", \n",
    "            \"Trump Wonders Why Joe Biden Is Forming A Cabinet In Latest Tweet Screed\", \"France pulls ambassador to Turkey after Erdogan calls for mental health check for Macron\", \n",
    "            \"Paul Hornung, NFL Hall Of Fame Running Back, Dies At 84\", \"Stock-market investors brace for busiest week of earnings in October\",\n",
    "            \"Software Dominates Deloitte’s 2020 Tech Fast 500 With 71% Of All Companies\", \"NASA will be 'hard-pressed' to land astronauts on moon in 2024\"] \n",
    "\n",
    "sequences = tokenizer.texts_to_sequences(sentences)\n",
    "padded = pad_sequences(sequences, maxlen=max_len, padding='pre', truncating='pre')\n",
    "\n",
    "y_prob = model.predict(padded) \n",
    "y_classes = y_prob.argmax(axis=-1)\n",
    "\n",
    "label_encode_key = list(labels_encode.keys())\n",
    "labels_encode_value = list(labels_encode.values())\n",
    "\n",
    "for idx, i in enumerate(y_classes):\n",
    "    print(f'News: {sentences[idx]}\\nCategory: {label_encode_key[labels_encode_value.index(i)]} \\n' )"
   ]
  }
 ],
 "metadata": {
  "accelerator": "GPU",
  "colab": {
   "authorship_tag": "ABX9TyO7SorJMWnPTuHKMy2sByC1",
   "collapsed_sections": [],
   "mount_file_id": "1yuOdH9hwi0Cz8oDaG44TAR_HexEl5ytw",
   "name": "news_category.ipynb",
   "provenance": []
  },
  "kernelspec": {
   "display_name": "Python 3",
   "language": "python",
   "name": "python3"
  },
  "language_info": {
   "codemirror_mode": {
    "name": "ipython",
    "version": 3
   },
   "file_extension": ".py",
   "mimetype": "text/x-python",
   "name": "python",
   "nbconvert_exporter": "python",
   "pygments_lexer": "ipython3",
   "version": "3.8.6"
  }
 },
 "nbformat": 4,
 "nbformat_minor": 1
}
