{
 "cells": [
  {
   "cell_type": "code",
   "execution_count": 1,
   "metadata": {
    "executionInfo": {
     "elapsed": 312,
     "status": "ok",
     "timestamp": 1605461625810,
     "user": {
      "displayName": "Adit Chaudhary",
      "photoUrl": "",
      "userId": "04096686166570386707"
     },
     "user_tz": 300
    },
    "id": "GI0AxcJ4aizR"
   },
   "outputs": [],
   "source": [
    "data = open(\"/data/songs_v2.txt\").read()"
   ]
  },
  {
   "cell_type": "code",
   "execution_count": 2,
   "metadata": {
    "colab": {
     "base_uri": "https://localhost:8080/"
    },
    "executionInfo": {
     "elapsed": 1723,
     "status": "ok",
     "timestamp": 1605461627227,
     "user": {
      "displayName": "Adit Chaudhary",
      "photoUrl": "",
      "userId": "04096686166570386707"
     },
     "user_tz": 300
    },
    "id": "xuS6u0x5bfGG",
    "outputId": "4ea9c337-79cd-41ad-91cc-8b0060a13c17"
   },
   "outputs": [
    {
     "name": "stdout",
     "output_type": "stream",
     "text": [
      "2032\n"
     ]
    }
   ],
   "source": [
    "import tensorflow as tf\n",
    "from tensorflow.keras.preprocessing.text import Tokenizer\n",
    "from tensorflow.keras.preprocessing.sequence import pad_sequences\n",
    "\n",
    "corpus = data.lower().split('\\n')\n",
    "print(len(corpus))\n",
    "tokenizer = Tokenizer()\n",
    "tokenizer.fit_on_texts(corpus)\n",
    "total_words = len(tokenizer.word_index) + 1\n",
    "#print(tokenizer.word_index.items())"
   ]
  },
  {
   "cell_type": "code",
   "execution_count": 3,
   "metadata": {
    "executionInfo": {
     "elapsed": 1719,
     "status": "ok",
     "timestamp": 1605461627229,
     "user": {
      "displayName": "Adit Chaudhary",
      "photoUrl": "",
      "userId": "04096686166570386707"
     },
     "user_tz": 300
    },
    "id": "zXyQBrdZfJEw"
   },
   "outputs": [],
   "source": [
    "input_seq = []\n",
    "\n",
    "for line in corpus:\n",
    "    token_list = tokenizer.texts_to_sequences([line])[0]\n",
    "\n",
    "    for i in range(1, len(token_list)):\n",
    "        pieces = token_list[:i+1]\n",
    "        input_seq.append(pieces)\n",
    "\n",
    "#print(input_seq)"
   ]
  },
  {
   "cell_type": "code",
   "execution_count": 4,
   "metadata": {
    "colab": {
     "base_uri": "https://localhost:8080/"
    },
    "executionInfo": {
     "elapsed": 1909,
     "status": "ok",
     "timestamp": 1605461627423,
     "user": {
      "displayName": "Adit Chaudhary",
      "photoUrl": "",
      "userId": "04096686166570386707"
     },
     "user_tz": 300
    },
    "id": "UkOlyw3AA7ZF",
    "outputId": "8afa0277-bc70-4f81-ad21-63e5edac38ee"
   },
   "outputs": [
    {
     "name": "stdout",
     "output_type": "stream",
     "text": [
      "[0. 0. 0. ... 0. 0. 0.]\n"
     ]
    }
   ],
   "source": [
    "import numpy as np\n",
    "\n",
    "max_seq_len = max([len(i) for i in input_seq])\n",
    "\n",
    "input_seq = np.array(pad_sequences(input_seq, maxlen=max_seq_len, padding=\"pre\"))\n",
    "\n",
    "xs = input_seq[:,:-1]\n",
    "labels = input_seq[:,-1]\n",
    "\n",
    "ys = tf.keras.utils.to_categorical(labels, num_classes=total_words)  # another way np.eye(total_words)[labels]\n",
    "#print(x_train[0:9])\n",
    "print(ys[0])\n"
   ]
  },
  {
   "cell_type": "code",
   "execution_count": 5,
   "metadata": {
    "colab": {
     "base_uri": "https://localhost:8080/"
    },
    "executionInfo": {
     "elapsed": 211196,
     "status": "ok",
     "timestamp": 1605461836718,
     "user": {
      "displayName": "Adit Chaudhary",
      "photoUrl": "",
      "userId": "04096686166570386707"
     },
     "user_tz": 300
    },
    "id": "I7bv5-XjqLaW",
    "outputId": "72682fc5-b167-4774-bcf8-f63d1f322054"
   },
   "outputs": [
    {
     "name": "stdout",
     "output_type": "stream",
     "text": [
      "Model: \"sequential\"\n",
      "_________________________________________________________________\n",
      "Layer (type)                 Output Shape              Param #   \n",
      "=================================================================\n",
      "embedding (Embedding)        (None, 15, 108)           324000    \n",
      "_________________________________________________________________\n",
      "bidirectional (Bidirectional (None, 432)               561600    \n",
      "_________________________________________________________________\n",
      "dense (Dense)                (None, 216)               93528     \n",
      "_________________________________________________________________\n",
      "dropout (Dropout)            (None, 216)               0         \n",
      "_________________________________________________________________\n",
      "dense_1 (Dense)              (None, 3000)              651000    \n",
      "=================================================================\n",
      "Total params: 1,630,128\n",
      "Trainable params: 1,630,128\n",
      "Non-trainable params: 0\n",
      "_________________________________________________________________\n",
      "Epoch 1/100\n",
      "226/226 - 2s - loss: 6.7545 - accuracy: 0.0635\n",
      "Epoch 2/100\n",
      "226/226 - 2s - loss: 6.3119 - accuracy: 0.0707\n",
      "Epoch 3/100\n",
      "226/226 - 2s - loss: 6.0925 - accuracy: 0.0821\n",
      "Epoch 4/100\n",
      "226/226 - 2s - loss: 5.9214 - accuracy: 0.0886\n",
      "Epoch 5/100\n",
      "226/226 - 2s - loss: 5.7557 - accuracy: 0.0975\n",
      "Epoch 6/100\n",
      "226/226 - 2s - loss: 5.5889 - accuracy: 0.1065\n",
      "Epoch 7/100\n",
      "226/226 - 2s - loss: 5.4138 - accuracy: 0.1170\n",
      "Epoch 8/100\n",
      "226/226 - 2s - loss: 5.2561 - accuracy: 0.1243\n",
      "Epoch 9/100\n",
      "226/226 - 2s - loss: 5.0873 - accuracy: 0.1365\n",
      "Epoch 10/100\n",
      "226/226 - 2s - loss: 4.9189 - accuracy: 0.1465\n",
      "Epoch 11/100\n",
      "226/226 - 2s - loss: 4.7513 - accuracy: 0.1627\n",
      "Epoch 12/100\n",
      "226/226 - 2s - loss: 4.5612 - accuracy: 0.1723\n",
      "Epoch 13/100\n",
      "226/226 - 2s - loss: 4.3699 - accuracy: 0.1850\n",
      "Epoch 14/100\n",
      "226/226 - 2s - loss: 4.1599 - accuracy: 0.2036\n",
      "Epoch 15/100\n",
      "226/226 - 2s - loss: 3.9480 - accuracy: 0.2181\n",
      "Epoch 16/100\n",
      "226/226 - 2s - loss: 3.7371 - accuracy: 0.2405\n",
      "Epoch 17/100\n",
      "226/226 - 2s - loss: 3.5129 - accuracy: 0.2650\n",
      "Epoch 18/100\n",
      "226/226 - 2s - loss: 3.2918 - accuracy: 0.2940\n",
      "Epoch 19/100\n",
      "226/226 - 2s - loss: 3.0813 - accuracy: 0.3281\n",
      "Epoch 20/100\n",
      "226/226 - 2s - loss: 2.8473 - accuracy: 0.3659\n",
      "Epoch 21/100\n",
      "226/226 - 2s - loss: 2.6699 - accuracy: 0.3965\n",
      "Epoch 22/100\n",
      "226/226 - 2s - loss: 2.4633 - accuracy: 0.4362\n",
      "Epoch 23/100\n",
      "226/226 - 2s - loss: 2.3020 - accuracy: 0.4656\n",
      "Epoch 24/100\n",
      "226/226 - 2s - loss: 2.1365 - accuracy: 0.4940\n",
      "Epoch 25/100\n",
      "226/226 - 2s - loss: 1.9996 - accuracy: 0.5242\n",
      "Epoch 26/100\n",
      "226/226 - 2s - loss: 1.8534 - accuracy: 0.5583\n",
      "Epoch 27/100\n",
      "226/226 - 2s - loss: 1.7450 - accuracy: 0.5769\n",
      "Epoch 28/100\n",
      "226/226 - 2s - loss: 1.6401 - accuracy: 0.6035\n",
      "Epoch 29/100\n",
      "226/226 - 2s - loss: 1.5440 - accuracy: 0.6259\n",
      "Epoch 30/100\n",
      "226/226 - 2s - loss: 1.4561 - accuracy: 0.6427\n",
      "Epoch 31/100\n",
      "226/226 - 2s - loss: 1.3948 - accuracy: 0.6573\n",
      "Epoch 32/100\n",
      "226/226 - 2s - loss: 1.3193 - accuracy: 0.6737\n",
      "Epoch 33/100\n",
      "226/226 - 2s - loss: 1.2579 - accuracy: 0.6894\n",
      "Epoch 34/100\n",
      "226/226 - 2s - loss: 1.2124 - accuracy: 0.7007\n",
      "Epoch 35/100\n",
      "226/226 - 2s - loss: 1.1495 - accuracy: 0.7123\n",
      "Epoch 36/100\n",
      "226/226 - 2s - loss: 1.1060 - accuracy: 0.7226\n",
      "Epoch 37/100\n",
      "226/226 - 2s - loss: 1.0664 - accuracy: 0.7346\n",
      "Epoch 38/100\n",
      "226/226 - 2s - loss: 1.0342 - accuracy: 0.7376\n",
      "Epoch 39/100\n",
      "226/226 - 2s - loss: 1.0024 - accuracy: 0.7458\n",
      "Epoch 40/100\n",
      "226/226 - 2s - loss: 0.9711 - accuracy: 0.7575\n",
      "Epoch 41/100\n",
      "226/226 - 2s - loss: 0.9377 - accuracy: 0.7634\n",
      "Epoch 42/100\n",
      "226/226 - 2s - loss: 0.9182 - accuracy: 0.7676\n",
      "Epoch 43/100\n",
      "226/226 - 2s - loss: 0.8946 - accuracy: 0.7723\n",
      "Epoch 44/100\n",
      "226/226 - 2s - loss: 0.8699 - accuracy: 0.7757\n",
      "Epoch 45/100\n",
      "226/226 - 2s - loss: 0.8468 - accuracy: 0.7794\n",
      "Epoch 46/100\n",
      "226/226 - 2s - loss: 0.8328 - accuracy: 0.7847\n",
      "Epoch 47/100\n",
      "226/226 - 2s - loss: 0.8162 - accuracy: 0.7871\n",
      "Epoch 48/100\n",
      "226/226 - 2s - loss: 0.8079 - accuracy: 0.7922\n",
      "Epoch 49/100\n",
      "226/226 - 2s - loss: 0.7900 - accuracy: 0.7908\n",
      "Epoch 50/100\n",
      "226/226 - 2s - loss: 0.7754 - accuracy: 0.7985\n",
      "Epoch 51/100\n",
      "226/226 - 2s - loss: 0.7680 - accuracy: 0.7981\n",
      "Epoch 52/100\n",
      "226/226 - 2s - loss: 0.7506 - accuracy: 0.8029\n",
      "Epoch 53/100\n",
      "226/226 - 2s - loss: 0.7397 - accuracy: 0.8073\n",
      "Epoch 54/100\n",
      "226/226 - 2s - loss: 0.7340 - accuracy: 0.8081\n",
      "Epoch 55/100\n",
      "226/226 - 2s - loss: 0.7260 - accuracy: 0.8066\n",
      "Epoch 56/100\n",
      "226/226 - 2s - loss: 0.7139 - accuracy: 0.8138\n",
      "Epoch 57/100\n",
      "226/226 - 2s - loss: 0.7054 - accuracy: 0.8149\n",
      "Epoch 58/100\n",
      "226/226 - 2s - loss: 0.7061 - accuracy: 0.8115\n",
      "Epoch 59/100\n",
      "226/226 - 2s - loss: 0.6969 - accuracy: 0.8126\n",
      "Epoch 60/100\n",
      "226/226 - 2s - loss: 0.6733 - accuracy: 0.8192\n",
      "Epoch 61/100\n",
      "226/226 - 2s - loss: 0.6697 - accuracy: 0.8223\n",
      "Epoch 62/100\n",
      "226/226 - 2s - loss: 0.6694 - accuracy: 0.8212\n",
      "Epoch 63/100\n",
      "226/226 - 2s - loss: 0.6656 - accuracy: 0.8217\n",
      "Epoch 64/100\n",
      "226/226 - 2s - loss: 0.6681 - accuracy: 0.8196\n",
      "Epoch 65/100\n",
      "226/226 - 2s - loss: 0.6609 - accuracy: 0.8195\n",
      "Epoch 66/100\n",
      "226/226 - 2s - loss: 0.6520 - accuracy: 0.8252\n",
      "Epoch 67/100\n",
      "226/226 - 2s - loss: 0.6463 - accuracy: 0.8245\n",
      "Epoch 68/100\n",
      "226/226 - 2s - loss: 0.6431 - accuracy: 0.8257\n",
      "Epoch 69/100\n",
      "226/226 - 2s - loss: 0.6213 - accuracy: 0.8333\n",
      "Epoch 70/100\n",
      "226/226 - 2s - loss: 0.6368 - accuracy: 0.8252\n",
      "Epoch 71/100\n",
      "226/226 - 2s - loss: 0.6229 - accuracy: 0.8298\n",
      "Epoch 72/100\n",
      "226/226 - 2s - loss: 0.6194 - accuracy: 0.8298\n",
      "Epoch 73/100\n",
      "226/226 - 2s - loss: 0.6243 - accuracy: 0.8290\n",
      "Epoch 74/100\n",
      "226/226 - 2s - loss: 0.6175 - accuracy: 0.8319\n",
      "Epoch 75/100\n",
      "226/226 - 2s - loss: 0.6118 - accuracy: 0.8315\n",
      "Epoch 76/100\n",
      "226/226 - 2s - loss: 0.6060 - accuracy: 0.8331\n",
      "Epoch 77/100\n",
      "226/226 - 2s - loss: 0.6097 - accuracy: 0.8304\n",
      "Epoch 78/100\n",
      "226/226 - 2s - loss: 0.6062 - accuracy: 0.8318\n",
      "Epoch 79/100\n",
      "226/226 - 2s - loss: 0.5984 - accuracy: 0.8354\n",
      "Epoch 80/100\n",
      "226/226 - 2s - loss: 0.5926 - accuracy: 0.8352\n",
      "Epoch 81/100\n",
      "226/226 - 2s - loss: 0.5909 - accuracy: 0.8357\n",
      "Epoch 82/100\n",
      "226/226 - 2s - loss: 0.5912 - accuracy: 0.8349\n",
      "Epoch 83/100\n",
      "226/226 - 2s - loss: 0.5929 - accuracy: 0.8328\n",
      "Epoch 84/100\n",
      "226/226 - 2s - loss: 0.5841 - accuracy: 0.8366\n",
      "Epoch 85/100\n",
      "226/226 - 2s - loss: 0.5775 - accuracy: 0.8388\n",
      "Epoch 86/100\n",
      "226/226 - 2s - loss: 0.5745 - accuracy: 0.8386\n",
      "Epoch 87/100\n",
      "226/226 - 2s - loss: 0.5836 - accuracy: 0.8348\n",
      "Epoch 88/100\n",
      "226/226 - 2s - loss: 0.5809 - accuracy: 0.8362\n",
      "Epoch 89/100\n",
      "226/226 - 2s - loss: 0.5739 - accuracy: 0.8370\n",
      "Epoch 90/100\n",
      "226/226 - 2s - loss: 0.5718 - accuracy: 0.8373\n",
      "Epoch 91/100\n",
      "226/226 - 2s - loss: 0.5708 - accuracy: 0.8411\n",
      "Epoch 92/100\n",
      "226/226 - 2s - loss: 0.5688 - accuracy: 0.8399\n",
      "Epoch 93/100\n",
      "226/226 - 2s - loss: 0.5722 - accuracy: 0.8356\n",
      "Epoch 94/100\n",
      "226/226 - 2s - loss: 0.5647 - accuracy: 0.8391\n",
      "Epoch 95/100\n",
      "226/226 - 2s - loss: 0.5689 - accuracy: 0.8363\n",
      "Epoch 96/100\n",
      "226/226 - 2s - loss: 0.5602 - accuracy: 0.8398\n",
      "Epoch 97/100\n",
      "226/226 - 2s - loss: 0.5618 - accuracy: 0.8390\n",
      "Epoch 98/100\n",
      "226/226 - 2s - loss: 0.5490 - accuracy: 0.8452\n",
      "Epoch 99/100\n",
      "226/226 - 2s - loss: 0.5499 - accuracy: 0.8443\n",
      "Epoch 100/100\n",
      "226/226 - 2s - loss: 0.5515 - accuracy: 0.8412\n"
     ]
    }
   ],
   "source": [
    "from tensorflow.keras import Sequential, layers, optimizers, losses\n",
    "\n",
    "\n",
    "model = Sequential([\n",
    "              layers.Embedding(total_words, output_dim=108, input_length=max_seq_len-1),\n",
    "              layers.Bidirectional(layers.LSTM(216)),\n",
    "              layers.Dense(216, activation='relu'),\n",
    "              layers.Dropout(.25),\n",
    "              layers.Dense(total_words)\n",
    "\n",
    "])\n",
    "model.summary()\n",
    "\n",
    "model.compile(optimizer=optimizers.Adam(lr=1e-3), \n",
    "              loss=losses.CategoricalCrossentropy(from_logits=True),\n",
    "              metrics=['accuracy'])\n",
    "history = model.fit(xs, ys, batch_size=64, verbose=2, epochs=100)"
   ]
  },
  {
   "cell_type": "code",
   "execution_count": 6,
   "metadata": {
    "colab": {
     "base_uri": "https://localhost:8080/",
     "height": 279
    },
    "executionInfo": {
     "elapsed": 211323,
     "status": "ok",
     "timestamp": 1605461836853,
     "user": {
      "displayName": "Adit Chaudhary",
      "photoUrl": "",
      "userId": "04096686166570386707"
     },
     "user_tz": 300
    },
    "id": "_wtrc1Z_tTV5",
    "outputId": "133cbd75-c6d3-46e1-9c34-ec6d398c2150"
   },
   "outputs": [
    {
     "data": {
      "image/png": "[encoded data removed]",
      "text/plain": [
       "<Figure size 432x288 with 1 Axes>"
      ]
     },
     "metadata": {
      "needs_background": "light",
      "tags": []
     },
     "output_type": "display_data"
    }
   ],
   "source": [
    "import matplotlib.pyplot as plt\n",
    "\n",
    "plt.xlabel(\"epochs\")\n",
    "plt.ylabel(\"accuracy\")\n",
    "plt.plot(history.history[\"accuracy\"])\n",
    "plt.legend(\"accuracy\")\n",
    "plt.show()"
   ]
  },
  {
   "cell_type": "code",
   "execution_count": 9,
   "metadata": {
    "colab": {
     "base_uri": "https://localhost:8080/"
    },
    "executionInfo": {
     "elapsed": 1681,
     "status": "ok",
     "timestamp": 1605461981260,
     "user": {
      "displayName": "Adit Chaudhary",
      "photoUrl": "",
      "userId": "04096686166570386707"
     },
     "user_tz": 300
    },
    "id": "X-7jz5E8u20l",
    "outputId": "c42f7706-7ebd-4a20-d24e-e9459b321eed"
   },
   "outputs": [
    {
     "name": "stdout",
     "output_type": "stream",
     "text": [
      "yet another awesome day coming along with the charming morning by law ten feet are calling me hand and a lark brand journey to roving boatsman under equality howl beautiful smile were me more and aisy as a frame mary went and sweet diggin for gold in the street is they sounds the larks shure stream be back on shining\n"
     ]
    }
   ],
   "source": [
    "seed_text = \"yet another awesome day coming along with the charming morning\"\n",
    "next_words = 50\n",
    "\n",
    "for _ in range(next_words):\n",
    "    token_list = tokenizer.texts_to_sequences([seed_text])[0]\n",
    "    token_list = pad_sequences([token_list], maxlen=max_seq_len-1, padding=\"pre\")\n",
    "    predicted =  np.argmax(model.predict(token_list), axis=1)\n",
    "    output_word = \"\"\n",
    "    for word, index in tokenizer.word_index.items():\n",
    "    if predicted == index:\n",
    "        output_word = word\n",
    "        break\n",
    "    seed_text += \" \" + output_word\n",
    "\n",
    "print(seed_text)"
   ]
  }
 ],
 "metadata": {
  "accelerator": "GPU",
  "colab": {
   "authorship_tag": "ABX9TyOGwGRoCykLj8ujDLDcZvSL",
   "collapsed_sections": [],
   "mount_file_id": "1tJPWk2mXTzIisBi7b8p4-l5-9ANthw9o",
   "name": "poetry.ipynb",
   "provenance": []
  },
  "kernelspec": {
   "display_name": "Python 3",
   "language": "python",
   "name": "python3"
  },
  "language_info": {
   "codemirror_mode": {
    "name": "ipython",
    "version": 3
   },
   "file_extension": ".py",
   "mimetype": "text/x-python",
   "name": "python",
   "nbconvert_exporter": "python",
   "pygments_lexer": "ipython3",
   "version": "3.7.3"
  }
 },
 "nbformat": 4,
 "nbformat_minor": 1
}
