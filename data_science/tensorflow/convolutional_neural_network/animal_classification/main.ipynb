{
 "cells": [
  {
   "cell_type": "markdown",
   "metadata": {
    "id": "s8L4T99QQfJc"
   },
   "source": [
    "# **Animal Classification**\n",
    "* 28,000 medium quality animal images\n",
    "* 10 categories: dog, cat, horse, spyder, butterfly, chicken, sheep, cow, squirrel, elephant\n",
    "\n",
    "Image count for each category varies between 2k and 5k units\n",
    "\n",
    "To download data visit **[here](https://www.kaggle.com/alessiocorrado99/animals10)**\n",
    "\n",
    "[Data Publisher](https://www.kaggle.com/alessiocorrado99)"
   ]
  },
  {
   "cell_type": "markdown",
   "metadata": {
    "id": "qBwFVep4Q_hY"
   },
   "source": [
    "### Data Preparation"
   ]
  },
  {
   "cell_type": "code",
   "execution_count": null,
   "metadata": {
    "id": "f8IffPkXLHFB"
   },
   "outputs": [],
   "source": [
    "import os \n",
    "import numpy as np\n",
    "import cv2\n",
    "import matplotlib.pyplot as plt\n",
    "\n",
    "REFRESH_DATA = True\n",
    "\n",
    "class animals_class():\n",
    "\n",
    "    img_size = 50\n",
    "    img_path = \"/data/raw-img/\" # download this 'raw-img from the link given on top'\n",
    "\n",
    "    training_data = []\n",
    "    count = 0\n",
    "    total = 0\n",
    "\n",
    "    def create_training_data(self):\n",
    "\n",
    "        for idx, animal in enumerate(os.listdir(self.img_path)):\n",
    "\n",
    "            print(animal, idx)\n",
    "            path = os.path.join(self.img_path, animal)\n",
    "\n",
    "            for img in os.listdir(path):\n",
    "\n",
    "                try:\n",
    "                    img = cv2.imread(os.path.join(path,img))\n",
    "                    img = cv2.resize(img, (self.img_size, self.img_size))\n",
    "                    self.training_data.append([img, idx])\n",
    "                    self.count += 1\n",
    "                    self.total += 1\n",
    "                except Exception as e:\n",
    "                    pass\n",
    "                \n",
    "            print(self.count)\n",
    "            self.count = 0   \n",
    "\n",
    "        np.random.shuffle(self.training_data)  \n",
    "        np.save(\"/data/training_data_RGB.npy\", self.training_data)  \n",
    "        print(self.total)\n",
    "\n",
    "if REFRESH_DATA:\n",
    "    ac = animals_class()\n",
    "    ac.create_training_data()\n",
    "    print(f'count = {ac.count}, total = {ac.total}')"
   ]
  },
  {
   "cell_type": "markdown",
   "metadata": {
    "id": "kC5O8q1xD9-C"
   },
   "source": [
    "### With GrayScale data"
   ]
  },
  {
   "cell_type": "code",
   "execution_count": null,
   "metadata": {
    "id": "LEeZB1H0elCR"
   },
   "outputs": [],
   "source": [
    "training_data = np.load(\"/data/training_data_GRYSCL.npy\", allow_pickle=True)"
   ]
  },
  {
   "cell_type": "code",
   "execution_count": null,
   "metadata": {
    "colab": {
     "base_uri": "https://localhost:8080/"
    },
    "executionInfo": {
     "elapsed": 97561,
     "status": "ok",
     "timestamp": 1605240005747,
     "user": {
      "displayName": "Adit Chaudhary",
      "photoUrl": "",
      "userId": "04096686166570386707"
     },
     "user_tz": 300
    },
    "id": "I_nOmNOYOkT_",
    "outputId": "de5bd54e-5e7f-4d1c-c709-a7ec8deb9070"
   },
   "outputs": [
    {
     "name": "stdout",
     "output_type": "stream",
     "text": [
      "Model: \"sequential_76\"\n",
      "_________________________________________________________________\n",
      "Layer (type)                 Output Shape              Param #   \n",
      "=================================================================\n",
      "conv2d_253 (Conv2D)          (None, 48, 48, 54)        540       \n",
      "_________________________________________________________________\n",
      "max_pooling2d_208 (MaxPoolin (None, 24, 24, 54)        0         \n",
      "_________________________________________________________________\n",
      "dropout_254 (Dropout)        (None, 24, 24, 54)        0         \n",
      "_________________________________________________________________\n",
      "conv2d_254 (Conv2D)          (None, 22, 22, 108)       52596     \n",
      "_________________________________________________________________\n",
      "max_pooling2d_209 (MaxPoolin (None, 11, 11, 108)       0         \n",
      "_________________________________________________________________\n",
      "dropout_255 (Dropout)        (None, 11, 11, 108)       0         \n",
      "_________________________________________________________________\n",
      "conv2d_255 (Conv2D)          (None, 9, 9, 216)         210168    \n",
      "_________________________________________________________________\n",
      "max_pooling2d_210 (MaxPoolin (None, 4, 4, 216)         0         \n",
      "_________________________________________________________________\n",
      "flatten_76 (Flatten)         (None, 3456)              0         \n",
      "_________________________________________________________________\n",
      "dense_153 (Dense)            (None, 216)               746712    \n",
      "_________________________________________________________________\n",
      "dropout_256 (Dropout)        (None, 216)               0         \n",
      "_________________________________________________________________\n",
      "dense_154 (Dense)            (None, 10)                2170      \n",
      "=================================================================\n",
      "Total params: 1,012,186\n",
      "Trainable params: 1,012,186\n",
      "Non-trainable params: 0\n",
      "_________________________________________________________________\n",
      "None\n",
      "Epoch 1/30\n",
      "328/328 - 3s - loss: 2.1759 - accuracy: 0.2126\n",
      "Epoch 2/30\n",
      "328/328 - 3s - loss: 1.9810 - accuracy: 0.3084\n",
      "Epoch 3/30\n",
      "328/328 - 3s - loss: 1.7921 - accuracy: 0.3818\n",
      "Epoch 4/30\n",
      "328/328 - 3s - loss: 1.6678 - accuracy: 0.4219\n",
      "Epoch 5/30\n",
      "328/328 - 3s - loss: 1.5827 - accuracy: 0.4568\n",
      "Epoch 6/30\n",
      "328/328 - 3s - loss: 1.5137 - accuracy: 0.4839\n",
      "Epoch 7/30\n",
      "328/328 - 3s - loss: 1.4463 - accuracy: 0.5085\n",
      "Epoch 8/30\n",
      "328/328 - 3s - loss: 1.4019 - accuracy: 0.5243\n",
      "Epoch 9/30\n",
      "328/328 - 3s - loss: 1.3722 - accuracy: 0.5317\n",
      "Epoch 10/30\n",
      "328/328 - 3s - loss: 1.3198 - accuracy: 0.5476\n",
      "Epoch 11/30\n",
      "328/328 - 3s - loss: 1.2827 - accuracy: 0.5633\n",
      "Epoch 12/30\n",
      "328/328 - 3s - loss: 1.2670 - accuracy: 0.5692\n",
      "Epoch 13/30\n",
      "328/328 - 3s - loss: 1.2132 - accuracy: 0.5843\n",
      "Epoch 14/30\n",
      "328/328 - 3s - loss: 1.1977 - accuracy: 0.5913\n",
      "Epoch 15/30\n",
      "328/328 - 3s - loss: 1.1707 - accuracy: 0.5999\n",
      "Epoch 16/30\n",
      "328/328 - 3s - loss: 1.1365 - accuracy: 0.6101\n",
      "Epoch 17/30\n",
      "328/328 - 3s - loss: 1.1235 - accuracy: 0.6165\n",
      "Epoch 18/30\n",
      "328/328 - 3s - loss: 1.0950 - accuracy: 0.6233\n",
      "Epoch 19/30\n",
      "328/328 - 3s - loss: 1.0769 - accuracy: 0.6342\n",
      "Epoch 20/30\n",
      "328/328 - 3s - loss: 1.0655 - accuracy: 0.6373\n",
      "Epoch 21/30\n",
      "328/328 - 3s - loss: 1.0405 - accuracy: 0.6443\n",
      "Epoch 22/30\n",
      "328/328 - 3s - loss: 1.0297 - accuracy: 0.6483\n",
      "Epoch 23/30\n",
      "328/328 - 3s - loss: 1.0094 - accuracy: 0.6549\n",
      "Epoch 24/30\n",
      "328/328 - 3s - loss: 0.9792 - accuracy: 0.6639\n",
      "Epoch 25/30\n",
      "328/328 - 3s - loss: 0.9740 - accuracy: 0.6679\n",
      "Epoch 26/30\n",
      "328/328 - 3s - loss: 0.9690 - accuracy: 0.6670\n",
      "Epoch 27/30\n",
      "328/328 - 3s - loss: 0.9493 - accuracy: 0.6733\n",
      "Epoch 28/30\n",
      "328/328 - 3s - loss: 0.9376 - accuracy: 0.6782\n",
      "Epoch 29/30\n",
      "328/328 - 3s - loss: 0.9291 - accuracy: 0.6787\n",
      "Epoch 30/30\n",
      "328/328 - 3s - loss: 0.9184 - accuracy: 0.6821\n",
      "82/82 - 0s - loss: 1.0670 - accuracy: 0.6510\n"
     ]
    },
    {
     "data": {
      "text/plain": [
       "[1.0670278072357178, 0.6510028839111328]"
      ]
     },
     "execution_count": 81,
     "metadata": {
      "tags": []
     },
     "output_type": "execute_result"
    }
   ],
   "source": [
    "import tensorflow as tf\n",
    "from tensorflow import keras\n",
    "from tensorflow.keras import layers, regularizers\n",
    "\n",
    "\n",
    "x = []\n",
    "y = []\n",
    "\n",
    "for feature, label in training_data:\n",
    "    x.append(feature)\n",
    "    y.append(label)\n",
    "\n",
    "split_size = int(len(x) * 0.20)\n",
    "\n",
    "x = (np.array(x).astype(\"float32\")/255.0).reshape(-1,50,50,1)\n",
    "y = np.array(y)\n",
    "\n",
    "x_train = x[split_size:]\n",
    "y_train = y[split_size:]\n",
    "\n",
    "x_test = x[:split_size]\n",
    "y_test = y[:split_size]\n",
    "\n",
    "model = keras.Sequential([\n",
    "                          keras.Input(shape=(50,50,1)),\n",
    "\n",
    "                          layers.Conv2D(54, 3, activation=\"relu\"),\n",
    "                          layers.MaxPooling2D(pool_size=(2,2)),\n",
    "\n",
    "                          layers.Dropout(.5),\n",
    "                          layers.Conv2D(108, 3, activation=\"relu\"),\n",
    "                          layers.MaxPooling2D(pool_size=(2,2)),\n",
    "\n",
    "                          layers.Dropout(.5),\n",
    "                          layers.Conv2D(216, 3, activation=\"relu\"),#, kernel_regularizer=regularizers.l2(0.0125)\n",
    "                          layers.MaxPooling2D(pool_size=(2,2)),\n",
    "\n",
    "\n",
    "                          layers.Flatten(),\n",
    "                          layers.Dense(216, activation=\"relu\"),\n",
    "                          layers.Dropout(.6),\n",
    "                          layers.Dense(10)\n",
    "])\n",
    "print(model.summary())\n",
    "\n",
    "model.compile(\n",
    "    loss=keras.losses.SparseCategoricalCrossentropy(from_logits=True),\n",
    "    optimizer=keras.optimizers.Adam(lr=1e-3),\n",
    "    metrics=[\"accuracy\"]\n",
    ")\n",
    "\n",
    "model.fit(x_train, y_train, batch_size=64, epochs=30, verbose=2)\n",
    "\n",
    "model.evaluate(x_test, y_test, batch_size=64, verbose=2)"
   ]
  },
  {
   "cell_type": "markdown",
   "metadata": {
    "id": "Ix91_RfkD3Ph"
   },
   "source": [
    "### With RGB data"
   ]
  },
  {
   "cell_type": "code",
   "execution_count": null,
   "metadata": {
    "id": "Q4ZqwW6ZxAdU"
   },
   "outputs": [],
   "source": [
    "training_data = np.load(\"/data/training_data_RGB.npy\", allow_pickle=True)"
   ]
  },
  {
   "cell_type": "code",
   "execution_count": null,
   "metadata": {
    "colab": {
     "base_uri": "https://localhost:8080/"
    },
    "executionInfo": {
     "elapsed": 151091,
     "status": "ok",
     "timestamp": 1605287642594,
     "user": {
      "displayName": "Adit Chaudhary",
      "photoUrl": "",
      "userId": "04096686166570386707"
     },
     "user_tz": 300
    },
    "id": "ePHenaGNxFBh",
    "outputId": "5a434db3-0461-41e0-bd2e-816f6aa0722a"
   },
   "outputs": [
    {
     "name": "stdout",
     "output_type": "stream",
     "text": [
      "Model: \"sequential\"\n",
      "_________________________________________________________________\n",
      "Layer (type)                 Output Shape              Param #   \n",
      "=================================================================\n",
      "conv2d (Conv2D)              (None, 48, 48, 54)        1512      \n",
      "_________________________________________________________________\n",
      "max_pooling2d (MaxPooling2D) (None, 24, 24, 54)        0         \n",
      "_________________________________________________________________\n",
      "dropout (Dropout)            (None, 24, 24, 54)        0         \n",
      "_________________________________________________________________\n",
      "conv2d_1 (Conv2D)            (None, 22, 22, 108)       52596     \n",
      "_________________________________________________________________\n",
      "max_pooling2d_1 (MaxPooling2 (None, 11, 11, 108)       0         \n",
      "_________________________________________________________________\n",
      "dropout_1 (Dropout)          (None, 11, 11, 108)       0         \n",
      "_________________________________________________________________\n",
      "conv2d_2 (Conv2D)            (None, 9, 9, 216)         210168    \n",
      "_________________________________________________________________\n",
      "max_pooling2d_2 (MaxPooling2 (None, 4, 4, 216)         0         \n",
      "_________________________________________________________________\n",
      "flatten (Flatten)            (None, 3456)              0         \n",
      "_________________________________________________________________\n",
      "dense (Dense)                (None, 216)               746712    \n",
      "_________________________________________________________________\n",
      "dropout_2 (Dropout)          (None, 216)               0         \n",
      "_________________________________________________________________\n",
      "dense_1 (Dense)              (None, 10)                2170      \n",
      "=================================================================\n",
      "Total params: 1,013,158\n",
      "Trainable params: 1,013,158\n",
      "Non-trainable params: 0\n",
      "_________________________________________________________________\n",
      "None\n",
      "Epoch 1/40\n",
      "328/328 - 4s - loss: 2.1024 - accuracy: 0.2466 - val_loss: 1.9474 - val_accuracy: 0.3471\n",
      "Epoch 2/40\n",
      "328/328 - 3s - loss: 1.8424 - accuracy: 0.3528 - val_loss: 1.6282 - val_accuracy: 0.4418\n",
      "Epoch 3/40\n",
      "328/328 - 3s - loss: 1.6770 - accuracy: 0.4167 - val_loss: 1.4356 - val_accuracy: 0.5160\n",
      "Epoch 4/40\n",
      "328/328 - 3s - loss: 1.5526 - accuracy: 0.4672 - val_loss: 1.4247 - val_accuracy: 0.5160\n",
      "Epoch 5/40\n",
      "328/328 - 3s - loss: 1.4647 - accuracy: 0.5006 - val_loss: 1.3335 - val_accuracy: 0.5545\n",
      "Epoch 6/40\n",
      "328/328 - 3s - loss: 1.3986 - accuracy: 0.5246 - val_loss: 1.2439 - val_accuracy: 0.5836\n",
      "Epoch 7/40\n",
      "328/328 - 3s - loss: 1.3333 - accuracy: 0.5411 - val_loss: 1.1834 - val_accuracy: 0.6122\n",
      "Epoch 8/40\n",
      "328/328 - 3s - loss: 1.3009 - accuracy: 0.5584 - val_loss: 1.1740 - val_accuracy: 0.6107\n",
      "Epoch 9/40\n",
      "328/328 - 3s - loss: 1.2412 - accuracy: 0.5803 - val_loss: 1.1741 - val_accuracy: 0.6044\n",
      "Epoch 10/40\n",
      "328/328 - 3s - loss: 1.2053 - accuracy: 0.5915 - val_loss: 1.1547 - val_accuracy: 0.6216\n",
      "Epoch 11/40\n",
      "328/328 - 3s - loss: 1.1670 - accuracy: 0.6012 - val_loss: 1.0803 - val_accuracy: 0.6407\n",
      "Epoch 12/40\n",
      "328/328 - 3s - loss: 1.1418 - accuracy: 0.6140 - val_loss: 1.1053 - val_accuracy: 0.6376\n",
      "Epoch 13/40\n",
      "328/328 - 3s - loss: 1.1132 - accuracy: 0.6205 - val_loss: 1.0522 - val_accuracy: 0.6617\n",
      "Epoch 14/40\n",
      "328/328 - 3s - loss: 1.0899 - accuracy: 0.6303 - val_loss: 1.1040 - val_accuracy: 0.6344\n",
      "Epoch 15/40\n",
      "328/328 - 3s - loss: 1.0514 - accuracy: 0.6398 - val_loss: 1.0342 - val_accuracy: 0.6479\n",
      "Epoch 16/40\n",
      "328/328 - 3s - loss: 1.0267 - accuracy: 0.6465 - val_loss: 1.0100 - val_accuracy: 0.6707\n",
      "Epoch 17/40\n",
      "328/328 - 3s - loss: 1.0186 - accuracy: 0.6509 - val_loss: 0.9738 - val_accuracy: 0.6726\n",
      "Epoch 18/40\n",
      "328/328 - 3s - loss: 0.9931 - accuracy: 0.6601 - val_loss: 1.0414 - val_accuracy: 0.6625\n",
      "Epoch 19/40\n",
      "328/328 - 3s - loss: 0.9723 - accuracy: 0.6660 - val_loss: 0.9990 - val_accuracy: 0.6718\n",
      "Epoch 20/40\n",
      "328/328 - 3s - loss: 0.9568 - accuracy: 0.6738 - val_loss: 1.0259 - val_accuracy: 0.6663\n",
      "Epoch 21/40\n",
      "328/328 - 3s - loss: 0.9356 - accuracy: 0.6816 - val_loss: 0.9996 - val_accuracy: 0.6800\n",
      "Epoch 22/40\n",
      "328/328 - 3s - loss: 0.9269 - accuracy: 0.6819 - val_loss: 0.9259 - val_accuracy: 0.6993\n",
      "Epoch 23/40\n",
      "328/328 - 3s - loss: 0.9048 - accuracy: 0.6897 - val_loss: 0.9598 - val_accuracy: 0.6890\n",
      "Epoch 24/40\n",
      "328/328 - 3s - loss: 0.8946 - accuracy: 0.6941 - val_loss: 0.9606 - val_accuracy: 0.6844\n",
      "Epoch 25/40\n",
      "328/328 - 3s - loss: 0.8732 - accuracy: 0.6983 - val_loss: 0.9452 - val_accuracy: 0.6884\n",
      "Epoch 26/40\n",
      "328/328 - 3s - loss: 0.8619 - accuracy: 0.7030 - val_loss: 0.9650 - val_accuracy: 0.6886\n",
      "Epoch 27/40\n",
      "328/328 - 3s - loss: 0.8648 - accuracy: 0.7005 - val_loss: 0.9382 - val_accuracy: 0.6970\n",
      "Epoch 28/40\n",
      "328/328 - 3s - loss: 0.8384 - accuracy: 0.7115 - val_loss: 0.9239 - val_accuracy: 0.6947\n",
      "Epoch 29/40\n",
      "328/328 - 3s - loss: 0.8241 - accuracy: 0.7153 - val_loss: 0.9812 - val_accuracy: 0.6783\n",
      "Epoch 30/40\n",
      "328/328 - 3s - loss: 0.8277 - accuracy: 0.7137 - val_loss: 0.9591 - val_accuracy: 0.6863\n",
      "Epoch 31/40\n",
      "328/328 - 3s - loss: 0.8128 - accuracy: 0.7208 - val_loss: 0.9482 - val_accuracy: 0.6930\n",
      "Epoch 32/40\n",
      "328/328 - 3s - loss: 0.8044 - accuracy: 0.7227 - val_loss: 0.9238 - val_accuracy: 0.7054\n",
      "Epoch 33/40\n",
      "328/328 - 3s - loss: 0.7916 - accuracy: 0.7248 - val_loss: 0.9713 - val_accuracy: 0.6913\n",
      "Epoch 34/40\n",
      "328/328 - 3s - loss: 0.7844 - accuracy: 0.7290 - val_loss: 0.9458 - val_accuracy: 0.7016\n",
      "Epoch 35/40\n",
      "328/328 - 3s - loss: 0.7610 - accuracy: 0.7377 - val_loss: 0.9777 - val_accuracy: 0.6923\n",
      "Epoch 36/40\n",
      "328/328 - 3s - loss: 0.7648 - accuracy: 0.7340 - val_loss: 0.9255 - val_accuracy: 0.6997\n",
      "Epoch 37/40\n",
      "328/328 - 3s - loss: 0.7516 - accuracy: 0.7391 - val_loss: 0.9772 - val_accuracy: 0.6858\n",
      "Epoch 38/40\n",
      "328/328 - 3s - loss: 0.7493 - accuracy: 0.7421 - val_loss: 0.9717 - val_accuracy: 0.6863\n",
      "Epoch 39/40\n",
      "328/328 - 3s - loss: 0.7398 - accuracy: 0.7441 - val_loss: 0.9490 - val_accuracy: 0.7047\n",
      "Epoch 40/40\n",
      "328/328 - 3s - loss: 0.7213 - accuracy: 0.7491 - val_loss: 0.9066 - val_accuracy: 0.7163\n"
     ]
    },
    {
     "data": {
      "text/plain": [
       "<tensorflow.python.keras.callbacks.History at 0x7f9191fa5da0>"
      ]
     },
     "execution_count": 4,
     "metadata": {
      "tags": []
     },
     "output_type": "execute_result"
    }
   ],
   "source": [
    "import tensorflow as tf\n",
    "from tensorflow import keras\n",
    "from tensorflow.keras import layers, regularizers\n",
    "\n",
    "\n",
    "x = []\n",
    "y = []\n",
    "\n",
    "for feature, label in training_data:\n",
    "    x.append(feature)\n",
    "    y.append(label)\n",
    "\n",
    "split_size = int(len(x) * 0.20)\n",
    "\n",
    "x = (np.array(x).astype(\"float32\")/255.0).reshape(-1,50,50,3)\n",
    "y = np.array(y)\n",
    "\n",
    "x_train = x[split_size:]\n",
    "y_train = y[split_size:]\n",
    "\n",
    "x_test = x[:split_size]\n",
    "y_test = y[:split_size]\n",
    "\n",
    "model = keras.Sequential([\n",
    "                          keras.Input(shape=(50,50,3)),\n",
    "\n",
    "                          layers.Conv2D(54, 3, activation=\"relu\"),\n",
    "                          layers.MaxPooling2D(pool_size=(2,2)),\n",
    "\n",
    "                          layers.Dropout(.5),\n",
    "                          layers.Conv2D(108, 3, activation=\"relu\"),\n",
    "                          layers.MaxPooling2D(pool_size=(2,2)),\n",
    "\n",
    "                          layers.Dropout(.5),\n",
    "                          layers.Conv2D(216, 3, activation=\"relu\"),#, kernel_regularizer=regularizers.l2(0.0125)\n",
    "                          layers.MaxPooling2D(pool_size=(2,2)),\n",
    "\n",
    "\n",
    "                          layers.Flatten(),\n",
    "                          layers.Dense(216, activation=\"relu\"),\n",
    "                          layers.Dropout(.6),\n",
    "                          layers.Dense(10)\n",
    "])\n",
    "print(model.summary())\n",
    "\n",
    "model.compile(\n",
    "    loss=keras.losses.SparseCategoricalCrossentropy(from_logits=True),\n",
    "    optimizer=keras.optimizers.Adam(lr=1e-3),\n",
    "    metrics=[\"accuracy\"]\n",
    ")\n",
    "\n",
    "model.fit(x_train, y_train, batch_size=64, epochs=40, verbose=2, \n",
    "          validation_data=(x_test, y_test))\n",
    "\n",
    "#model.evaluate(x_test, y_test, batch_size=64, verbose=2)"
   ]
  },
  {
   "cell_type": "code",
   "execution_count": null,
   "metadata": {
    "colab": {
     "base_uri": "https://localhost:8080/"
    },
    "executionInfo": {
     "elapsed": 703,
     "status": "ok",
     "timestamp": 1605287729521,
     "user": {
      "displayName": "Adit Chaudhary",
      "photoUrl": "",
      "userId": "04096686166570386707"
     },
     "user_tz": 300
    },
    "id": "nPGrDIC4mswZ",
    "outputId": "d24aa380-5268-4b02-8e85-37921c41da4a"
   },
   "outputs": [
    {
     "name": "stdout",
     "output_type": "stream",
     "text": [
      "82/82 - 0s - loss: 0.9066 - accuracy: 0.7163\n"
     ]
    },
    {
     "data": {
      "text/plain": [
       "[0.9066025018692017, 0.7163323760032654]"
      ]
     },
     "execution_count": 5,
     "metadata": {
      "tags": []
     },
     "output_type": "execute_result"
    }
   ],
   "source": [
    "model.evaluate(x_test, y_test, batch_size=64, verbose=2)"
   ]
  }
 ],
 "metadata": {
  "accelerator": "GPU",
  "colab": {
   "authorship_tag": "ABX9TyOajwzLKiWvB5x+a2v0MAP1",
   "collapsed_sections": [],
   "mount_file_id": "1D8rPXsgnZdtZnscGqQO3qOlYsxZ4D0zY",
   "name": "main.ipynb",
   "provenance": []
  },
  "kernelspec": {
   "display_name": "Python 3",
   "language": "python",
   "name": "python3"
  },
  "language_info": {
   "codemirror_mode": {
    "name": "ipython",
    "version": 3
   },
   "file_extension": ".py",
   "mimetype": "text/x-python",
   "name": "python",
   "nbconvert_exporter": "python",
   "pygments_lexer": "ipython3",
   "version": "3.7.3"
  }
 },
 "nbformat": 4,
 "nbformat_minor": 1
}
